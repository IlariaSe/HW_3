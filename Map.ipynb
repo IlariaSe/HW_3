{
 "cells": [
  {
   "cell_type": "markdown",
   "metadata": {},
   "source": [
    "# Map\n",
    "Show which packages we used:"
   ]
  },
  {
   "cell_type": "code",
   "execution_count": 9,
   "metadata": {},
   "outputs": [],
   "source": [
    "import pandas as pd\n",
    "import folium\n",
    "from geopy import distance\n",
    "from folium.plugins import MarkerCluster"
   ]
  },
  {
   "cell_type": "markdown",
   "metadata": {},
   "source": [
    "Importing data with **read_csv()** and we filter the columns with `usecols`.\n",
    "#### Clean up the data:\n",
    "- Remove all the duplicates from the data frame.\n",
    "- Remove all the NaN values: this is an important step because if there are null values in the longitude and latitude columns we are not able to locate the house.\n",
    "- If `df.average_rate_per_night`it is equal to zero, maybe there's a mistake because it's not possible that it's free! For this we delete this data from our analysis."
   ]
  },
  {
   "cell_type": "code",
   "execution_count": 58,
   "metadata": {},
   "outputs": [],
   "source": [
    "df = pd.read_csv('Airbnb_Texas_Rentals.csv',usecols=['latitude','longitude','average_rate_per_night','title','url'])\n",
    "df = df.drop_duplicates()\n",
    "df = df[df.average_rate_per_night != 0]\n",
    "df = df.dropna()"
   ]
  },
  {
   "cell_type": "code",
   "execution_count": 3,
   "metadata": {},
   "outputs": [
    {
     "data": {
      "text/html": [
       "<div>\n",
       "<style scoped>\n",
       "    .dataframe tbody tr th:only-of-type {\n",
       "        vertical-align: middle;\n",
       "    }\n",
       "\n",
       "    .dataframe tbody tr th {\n",
       "        vertical-align: top;\n",
       "    }\n",
       "\n",
       "    .dataframe thead th {\n",
       "        text-align: right;\n",
       "    }\n",
       "</style>\n",
       "<table border=\"1\" class=\"dataframe\">\n",
       "  <thead>\n",
       "    <tr style=\"text-align: right;\">\n",
       "      <th></th>\n",
       "      <th>average_rate_per_night</th>\n",
       "      <th>latitude</th>\n",
       "      <th>longitude</th>\n",
       "      <th>title</th>\n",
       "      <th>url</th>\n",
       "    </tr>\n",
       "  </thead>\n",
       "  <tbody>\n",
       "    <tr>\n",
       "      <th>0</th>\n",
       "      <td>$27</td>\n",
       "      <td>30.020138</td>\n",
       "      <td>-95.293996</td>\n",
       "      <td>2 Private rooms/bathroom 10min from IAH airport</td>\n",
       "      <td>https://www.airbnb.com/rooms/18520444?location...</td>\n",
       "    </tr>\n",
       "    <tr>\n",
       "      <th>1</th>\n",
       "      <td>$149</td>\n",
       "      <td>29.503068</td>\n",
       "      <td>-98.447688</td>\n",
       "      <td>Unique Location! Alamo Heights - Designer Insp...</td>\n",
       "      <td>https://www.airbnb.com/rooms/17481455?location...</td>\n",
       "    </tr>\n",
       "  </tbody>\n",
       "</table>\n",
       "</div>"
      ],
      "text/plain": [
       "  average_rate_per_night   latitude  longitude  \\\n",
       "0                    $27  30.020138 -95.293996   \n",
       "1                   $149  29.503068 -98.447688   \n",
       "\n",
       "                                               title  \\\n",
       "0    2 Private rooms/bathroom 10min from IAH airport   \n",
       "1  Unique Location! Alamo Heights - Designer Insp...   \n",
       "\n",
       "                                                 url  \n",
       "0  https://www.airbnb.com/rooms/18520444?location...  \n",
       "1  https://www.airbnb.com/rooms/17481455?location...  "
      ]
     },
     "execution_count": 3,
     "metadata": {},
     "output_type": "execute_result"
    }
   ],
   "source": [
    "df.head(2) # show the first 2 rows"
   ]
  },
  {
   "cell_type": "markdown",
   "metadata": {},
   "source": [
    "Takes in input a set of coordinates and a maximum distance from the coordinates. For example, \n",
    "we can take the coordinates of *Dallas* (32.892048, - 96.871741) but, obviously,the customer can enter the coordinates related to the city where he wants to stay in Texas!"
   ]
  },
  {
   "cell_type": "code",
   "execution_count": 5,
   "metadata": {},
   "outputs": [
    {
     "name": "stdout",
     "output_type": "stream",
     "text": [
      "Enter a latitude: 32.892048\n",
      "Enter a longitude: -96.871741\n",
      "Enter a distance (km): 2\n"
     ]
    }
   ],
   "source": [
    "latitude = float(input('Enter a latitude: ')) #32.892048 \n",
    "longitude = float(input('Enter a longitude: ')) #-96.871741\n",
    "dist = float(input('Enter a distance (km): ')) #2"
   ]
  },
  {
   "cell_type": "markdown",
   "metadata": {},
   "source": [
    "### It's time to create our map!"
   ]
  },
  {
   "cell_type": "markdown",
   "metadata": {},
   "source": [
    "The first thing to do is to create a map object centered around the area of interest. Then, we added in each of the points using a for loop on the data frame df. For each location, we also create a popup tooltip to provide the verage_rate_per_night and if you click on the price you can go directly to the site of the house.\n",
    "\n",
    "We noticed that several points are hard to see since they can be very close to each other. To fix these issues we created **marker clusters**: *the marker clusers group points that overlap and then it labels the resulting cirlce with the number of points in that area. If you click on the circle, the map zooms to the area to show you the individual points*."
   ]
  },
  {
   "cell_type": "code",
   "execution_count": 53,
   "metadata": {},
   "outputs": [],
   "source": [
    "m = folium.Map(location = [latitude, longitude], tiles =\"OpenStreetMap\", zoom_start = 10)\n",
    "folium.Marker(location = [latitude,longitude],\n",
    "              popup = 'Town center', icon = folium.Icon(color = 'green', icon = 'home')).add_to(m)\n",
    "folium.Circle(location = [latitude, longitude], \n",
    "              radius = dist*1000,color='#3186cc',fill_color = '#000000',fill_opacity= 0.2).add_to(m)\n",
    "mc = MarkerCluster()\n",
    "for row in df.itertuples():\n",
    "    k = distance.distance((latitude, longitude), (row.latitude, row.longitude)).km\n",
    "    if k <= dist:\n",
    "         mc.add_child(folium.Marker(location = [row.latitude, row.longitude],\n",
    "                      popup = folium.Popup(\"<a href=\" + row.url + \">\" + row.average_rate_per_night + \" </a>\"),\n",
    "                      icon = folium.Icon(color = 'lightgray', icon_color = '#3186cc')))\n",
    "m.add_child(mc)\n",
    "m.save('Map_result.html')"
   ]
  }
 ],
 "metadata": {
  "kernelspec": {
   "display_name": "Python 3",
   "language": "python",
   "name": "python3"
  },
  "language_info": {
   "codemirror_mode": {
    "name": "ipython",
    "version": 3
   },
   "file_extension": ".py",
   "mimetype": "text/x-python",
   "name": "python",
   "nbconvert_exporter": "python",
   "pygments_lexer": "ipython3",
   "version": "3.6.5"
  }
 },
 "nbformat": 4,
 "nbformat_minor": 2
}
