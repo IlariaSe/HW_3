{
 "cells": [
  {
   "cell_type": "markdown",
   "metadata": {},
   "source": [
    "# Homework 3 - Find the perfect place to stay in Texas!"
   ]
  },
  {
   "cell_type": "markdown",
   "metadata": {},
   "source": [
    "##### Work done by Musie Meressa Berhe, Ilaria Servadio, (Omid Ghamiloo)."
   ]
  },
  {
   "cell_type": "markdown",
   "metadata": {},
   "source": [
    "Show which packages we used:"
   ]
  },
  {
   "cell_type": "code",
   "execution_count": 1,
   "metadata": {},
   "outputs": [],
   "source": [
    "import csv #for read the data\n",
    "import os\n",
    "import glob\n",
    "import pandas as pd # for work with data frame\n",
    "import itertools as it\n",
    "from itertools import islice\n",
    "import string #We use it later for removing punctuation\n",
    "import numpy as np\n",
    "import json #JSON Library of Python can parse JSON string or file\n",
    "\n",
    "# we import nltk library for preprocess the documents:\n",
    "from nltk.corpus import words as nltk_words\n",
    "from nltk.tokenize import sent_tokenize, word_tokenize,RegexpTokenizer \n",
    "from nltk.corpus import stopwords\n",
    "from nltk.stem.snowball import SnowballStemmer\n",
    "from nltk.stem import WordNetLemmatizer\n",
    "from collections import Counter, OrderedDict\n",
    "\n",
    "import math\n",
    "import enchant\n",
    "import itertools as it\n",
    "\n",
    "from geopy import distance\n",
    "import heapq\n",
    "from operator import itemgetter\n",
    "\n",
    "# For a nice view of the output\n",
    "from IPython.display import HTML, display\n",
    "from tabulate import tabulate"
   ]
  },
  {
   "cell_type": "markdown",
   "metadata": {},
   "source": [
    "## Step 1: Data"
   ]
  },
  {
   "cell_type": "markdown",
   "metadata": {},
   "source": [
    "Importing Data with **read_csv()**"
   ]
  },
  {
   "cell_type": "code",
   "execution_count": 66,
   "metadata": {},
   "outputs": [
    {
     "data": {
      "text/html": [
       "<div>\n",
       "<style scoped>\n",
       "    .dataframe tbody tr th:only-of-type {\n",
       "        vertical-align: middle;\n",
       "    }\n",
       "\n",
       "    .dataframe tbody tr th {\n",
       "        vertical-align: top;\n",
       "    }\n",
       "\n",
       "    .dataframe thead th {\n",
       "        text-align: right;\n",
       "    }\n",
       "</style>\n",
       "<table border=\"1\" class=\"dataframe\">\n",
       "  <thead>\n",
       "    <tr style=\"text-align: right;\">\n",
       "      <th></th>\n",
       "      <th>Unnamed: 0</th>\n",
       "      <th>average_rate_per_night</th>\n",
       "      <th>bedrooms_count</th>\n",
       "      <th>city</th>\n",
       "      <th>date_of_listing</th>\n",
       "      <th>description</th>\n",
       "      <th>latitude</th>\n",
       "      <th>longitude</th>\n",
       "      <th>title</th>\n",
       "      <th>url</th>\n",
       "    </tr>\n",
       "  </thead>\n",
       "  <tbody>\n",
       "    <tr>\n",
       "      <th>0</th>\n",
       "      <td>1</td>\n",
       "      <td>$27</td>\n",
       "      <td>2</td>\n",
       "      <td>Humble</td>\n",
       "      <td>May 2016</td>\n",
       "      <td>Welcome to stay in private room with queen bed...</td>\n",
       "      <td>30.020138</td>\n",
       "      <td>-95.293996</td>\n",
       "      <td>2 Private rooms/bathroom 10min from IAH airport</td>\n",
       "      <td>https://www.airbnb.com/rooms/18520444?location...</td>\n",
       "    </tr>\n",
       "    <tr>\n",
       "      <th>1</th>\n",
       "      <td>2</td>\n",
       "      <td>$149</td>\n",
       "      <td>4</td>\n",
       "      <td>San Antonio</td>\n",
       "      <td>November 2010</td>\n",
       "      <td>Stylish, fully remodeled home in upscale NW – ...</td>\n",
       "      <td>29.503068</td>\n",
       "      <td>-98.447688</td>\n",
       "      <td>Unique Location! Alamo Heights - Designer Insp...</td>\n",
       "      <td>https://www.airbnb.com/rooms/17481455?location...</td>\n",
       "    </tr>\n",
       "  </tbody>\n",
       "</table>\n",
       "</div>"
      ],
      "text/plain": [
       "   Unnamed: 0 average_rate_per_night bedrooms_count         city  \\\n",
       "0           1                    $27              2       Humble   \n",
       "1           2                   $149              4  San Antonio   \n",
       "\n",
       "  date_of_listing                                        description  \\\n",
       "0        May 2016  Welcome to stay in private room with queen bed...   \n",
       "1   November 2010  Stylish, fully remodeled home in upscale NW – ...   \n",
       "\n",
       "    latitude  longitude                                              title  \\\n",
       "0  30.020138 -95.293996    2 Private rooms/bathroom 10min from IAH airport   \n",
       "1  29.503068 -98.447688  Unique Location! Alamo Heights - Designer Insp...   \n",
       "\n",
       "                                                 url  \n",
       "0  https://www.airbnb.com/rooms/18520444?location...  \n",
       "1  https://www.airbnb.com/rooms/17481455?location...  "
      ]
     },
     "execution_count": 66,
     "metadata": {},
     "output_type": "execute_result"
    }
   ],
   "source": [
    "df = pd.read_csv('Airbnb_Texas_Rentals.csv')\n",
    "df.head(n = 2) #head(n) return the first n rows"
   ]
  },
  {
   "cell_type": "markdown",
   "metadata": {},
   "source": [
    "We delete the column called **'Unnamed: 0'** from our dataframe because the row index does not have to be imported into the tsv files.\n",
    "The content of the file should be the following:\n",
    "\n",
    "`average_rate_per_night \\t  bedrooms_count \\t city \\t date_of_listing \\t description \\t latitude\\t longitude \\t title \\t url`"
   ]
  },
  {
   "cell_type": "code",
   "execution_count": 68,
   "metadata": {},
   "outputs": [
    {
     "data": {
      "text/html": [
       "<div>\n",
       "<style scoped>\n",
       "    .dataframe tbody tr th:only-of-type {\n",
       "        vertical-align: middle;\n",
       "    }\n",
       "\n",
       "    .dataframe tbody tr th {\n",
       "        vertical-align: top;\n",
       "    }\n",
       "\n",
       "    .dataframe thead th {\n",
       "        text-align: right;\n",
       "    }\n",
       "</style>\n",
       "<table border=\"1\" class=\"dataframe\">\n",
       "  <thead>\n",
       "    <tr style=\"text-align: right;\">\n",
       "      <th></th>\n",
       "      <th>average_rate_per_night</th>\n",
       "      <th>bedrooms_count</th>\n",
       "      <th>city</th>\n",
       "      <th>date_of_listing</th>\n",
       "      <th>description</th>\n",
       "      <th>latitude</th>\n",
       "      <th>longitude</th>\n",
       "      <th>title</th>\n",
       "      <th>url</th>\n",
       "    </tr>\n",
       "  </thead>\n",
       "  <tbody>\n",
       "    <tr>\n",
       "      <th>0</th>\n",
       "      <td>$27</td>\n",
       "      <td>2</td>\n",
       "      <td>Humble</td>\n",
       "      <td>May 2016</td>\n",
       "      <td>Welcome to stay in private room with queen bed...</td>\n",
       "      <td>30.020138</td>\n",
       "      <td>-95.293996</td>\n",
       "      <td>2 Private rooms/bathroom 10min from IAH airport</td>\n",
       "      <td>https://www.airbnb.com/rooms/18520444?location...</td>\n",
       "    </tr>\n",
       "    <tr>\n",
       "      <th>1</th>\n",
       "      <td>$149</td>\n",
       "      <td>4</td>\n",
       "      <td>San Antonio</td>\n",
       "      <td>November 2010</td>\n",
       "      <td>Stylish, fully remodeled home in upscale NW – ...</td>\n",
       "      <td>29.503068</td>\n",
       "      <td>-98.447688</td>\n",
       "      <td>Unique Location! Alamo Heights - Designer Insp...</td>\n",
       "      <td>https://www.airbnb.com/rooms/17481455?location...</td>\n",
       "    </tr>\n",
       "  </tbody>\n",
       "</table>\n",
       "</div>"
      ],
      "text/plain": [
       "  average_rate_per_night bedrooms_count         city date_of_listing  \\\n",
       "0                    $27              2       Humble        May 2016   \n",
       "1                   $149              4  San Antonio   November 2010   \n",
       "\n",
       "                                         description   latitude  longitude  \\\n",
       "0  Welcome to stay in private room with queen bed...  30.020138 -95.293996   \n",
       "1  Stylish, fully remodeled home in upscale NW – ...  29.503068 -98.447688   \n",
       "\n",
       "                                               title  \\\n",
       "0    2 Private rooms/bathroom 10min from IAH airport   \n",
       "1  Unique Location! Alamo Heights - Designer Insp...   \n",
       "\n",
       "                                                 url  \n",
       "0  https://www.airbnb.com/rooms/18520444?location...  \n",
       "1  https://www.airbnb.com/rooms/17481455?location...  "
      ]
     },
     "execution_count": 68,
     "metadata": {},
     "output_type": "execute_result"
    }
   ],
   "source": [
    "df = df.drop('Unnamed: 0', axis = 1) \n",
    "df.head(n = 2)"
   ]
  },
  {
   "cell_type": "code",
   "execution_count": 4,
   "metadata": {},
   "outputs": [
    {
     "data": {
      "text/plain": [
       "18259"
      ]
     },
     "execution_count": 4,
     "metadata": {},
     "output_type": "execute_result"
    }
   ],
   "source": [
    "len(df) #corresponds to the number of file"
   ]
  },
  {
   "cell_type": "markdown",
   "metadata": {},
   "source": [
    "## Step 2: Create documents"
   ]
  },
  {
   "cell_type": "markdown",
   "metadata": {},
   "source": [
    "We create a .tsv file(where each column is separated by the tab) for **each record** of the dataset.\n",
    "The number of lines in our 'Airbnb_Texas_Rentals.csv' file is **18259**, we could see this thanks to    *len(df)*. Therefore, we create 18259 tsv file."
   ]
  },
  {
   "cell_type": "code",
   "execution_count": 5,
   "metadata": {},
   "outputs": [],
   "source": [
    "#Read the file and create a single tsv file for each record.  \n",
    "for i in range(len(df)):\n",
    "    file = open('Doc_i/doc_'+ str(i+1) \n",
    "              + '.tsv','w', newline = '', encoding = 'utf-8') \n",
    "    for j in range(9): # 9 is the number of columns\n",
    "        file.write('%s\\t' %df.iloc[i,j])\n",
    "    file.close()"
   ]
  },
  {
   "cell_type": "markdown",
   "metadata": {},
   "source": [
    "**Details:**\n",
    "- We store all the documents into an empty folder called *'Doc_i'* and this folder is created especially for them;\n",
    "- str(i+1) : **i** is the dataframe index but we increase it onefold because in thi way the numbering of the documents start from 1 and not from 0;\n",
    "- The name of each file is *doc_i.tsv*.\n",
    "\n",
    "For example, if we open **doc_11245.tsv**, the content of the file should be the following:\n",
    "\n",
    "`$400\t3\tCrystal Beach\tFebruary 2016\tRedfish Retreat is new custom built spacious 3/2 home that sits 500 ft from the beach! It is beautifully furnished for a fun filled beach getaway! It comfortably sleeps 14. The open living area is spacious with well equipped kitchen and dining room.\t29.472450991244997\t-94.5953701751515\tRedfish Retreat *close to the beach\thttps://www.airbnb.com/rooms/11529245?location=Bolivar%20Peninsula%2C%20TX`"
   ]
  },
  {
   "cell_type": "markdown",
   "metadata": {},
   "source": [
    "## Step 3: Search Engine\n",
    "As a first common step, we preprocess the documents by:\n",
    "- **Removing stopwords:** if there are words that don’t really have any meaning to our text we can just remove them. This words have sense in our language but in data analysis they are useless;\n",
    "- **Removing punctuation:** ! # $ % & \\ ' () * + , - . / : ; < = > ? @ [ \\\\ ] ^ _ ` {|} ~\n",
    "- **Stemming:** the idea is take from the word the root stem of the word. We do this because for a lot of items we are going to have different variations of word based on their stems or at least sort of fixes at the end but really the actual meaning of that word is unchanged.\n",
    "- **Lemmatizing:** is a very similar operation to stemming but the end result is a real word, so, the end result will be generally some form of synonym or it might be the original word. So, you might end up with a very different word but it will be a similar word with the same meaning;\n",
    "- **if not word.isdigit():** we do not take the numbers.\n",
    "\n",
    "We know that lemmatization may have accept only words that are part of the English dictionary so we delete all the words of other languages.e been a risky choice. In fact, using lemmatizing the answer to the query is larger than when it is not used. We have chosen to do this operation because the result could be more satisfactory for the customer. We show our reasoning with an ***example***:\n",
    "\n",
    "In English (and most languages), words appear in different forms. Look at these two sentences:\n",
    "\n",
    "`A garden with cactus` -> lemmatizer.lemmatize(\"cactus\")) return **cactus**\n",
    "\n",
    "`A garden with cacti`  -> lemmatizer.lemmatize(\"cacti\") return **cactus**\n",
    "\n",
    "Both sentences talk about the noun cactus, but they are using different inflections. When working with text in a computer, it is helpful to know the base form of each word so that you know that both sentences are talking about the same concept. Otherwise the strings “cactus” and “cacti” look like two totally different words to a computer.\n"
   ]
  },
  {
   "cell_type": "code",
   "execution_count": 6,
   "metadata": {},
   "outputs": [],
   "source": [
    "# Normalize the word. i.e. tokenize,stemming, lemmatization and removing punctuations\n",
    "exclude = set(string.punctuation)\n",
    "def wordNormlization(text):\n",
    "    stemmer = SnowballStemmer(\"english\")\n",
    "    lemmatizer = WordNetLemmatizer()\n",
    "    Normalized = []\n",
    "    tokenizer = RegexpTokenizer(r'\\w+')\n",
    "    word_list = tokenizer.tokenize(text.lower())\n",
    "    Remove_stopwords = [stemmer.stem(lemmatizer.lemmatize(word)) for word in word_list if word not in stopwords.words('english')]\n",
    "    for word in Remove_stopwords:\n",
    "        if not word.isdigit() and len(word)>1:\n",
    "            word = ''.join(ch for ch in word if ch not in exclude) #remove the punctuation\n",
    "            Normalized.append(word)\n",
    "    return Normalized"
   ]
  },
  {
   "cell_type": "markdown",
   "metadata": {},
   "source": [
    "### 3.1) Conjunctive query\n",
    "At this moment, we narrow out interest on the **description** and **title** of each document.\n",
    "\n",
    "Now, what we do is:\n",
    "\n",
    "1) `Read` all the documents inside the folder which contains all the 18259 tsv files;\n",
    "\n",
    "2) `Preprocess` the discription and title for each file;\n",
    "\n",
    "3) Create a `list` of all the words \"clean\";\n",
    "\n",
    "4) Create a `dictionary` whose key is the name of the document and the words contained in it for the items."
   ]
  },
  {
   "cell_type": "code",
   "execution_count": 8,
   "metadata": {},
   "outputs": [],
   "source": [
    "words = []\n",
    "dict_ = {}\n",
    "for i in range(len(df)):\n",
    "    file = open('Doc_i/doc_'+ str(i+1) \n",
    "              + '.tsv','r', encoding = 'utf-8') \n",
    "    file_name = 'doc_'+ str(i+1) + '.tsv' \n",
    "    list_ = file.read().split('\\t')\n",
    "    desc_and_title = list_[4] + list_[7]\n",
    "    cleaning = wordNormlization(str(desc_and_title))\n",
    "    words.append(cleaning)\n",
    "    dict_[file_name] = cleaning\n",
    "    file.close()\n",
    "words = list(it.chain(*words)) # Convert a nested list into one-dimensional list"
   ]
  },
  {
   "cell_type": "markdown",
   "metadata": {},
   "source": [
    "If you are interested in seeing the complete list of our words, open the file `'listwords.txt'` which is in the GitHub repository."
   ]
  },
  {
   "cell_type": "code",
   "execution_count": 25,
   "metadata": {},
   "outputs": [],
   "source": [
    "# Lets save the words list for future use\n",
    "with open('listwords.txt', 'w') as filehandle:  \n",
    "    json.dump(words, filehandle)\n",
    "    \n",
    "#To read the listword and save it to our words variable (we impor json)\n",
    "# open listwords file for reading\n",
    "with open('listwords.txt', 'r') as filehandle:  \n",
    "    words = json.load(filehandle)"
   ]
  },
  {
   "cell_type": "markdown",
   "metadata": {},
   "source": [
    "**CreateVocabulary(words)**: this function take in input all words, create the set and assign an ID to each term.\n",
    "\n",
    "*Vocabulary = {term : termID}*"
   ]
  },
  {
   "cell_type": "code",
   "execution_count": 26,
   "metadata": {},
   "outputs": [],
   "source": [
    "def CreateVocabulary(words):\n",
    "    # vocabulary = {term : termID}\n",
    "    Vocabulary = {}\n",
    "    wordList = list(set(words))\n",
    "    for ID, element in enumerate(wordList):\n",
    "        Vocabulary.update({element : ID})\n",
    "    return Vocabulary"
   ]
  },
  {
   "cell_type": "code",
   "execution_count": 27,
   "metadata": {},
   "outputs": [],
   "source": [
    "voc = CreateVocabulary(words)"
   ]
  },
  {
   "cell_type": "markdown",
   "metadata": {},
   "source": [
    "If you are interested in seeing the id associated with each word, open the file `'vocabulary.txt'` which is in the GitHub repository."
   ]
  },
  {
   "cell_type": "code",
   "execution_count": 28,
   "metadata": {},
   "outputs": [],
   "source": [
    "# Lets save the vocabulary for future use\n",
    "with open('vocabulary.txt', 'w') as filehandle:  \n",
    "    json.dump(voc, filehandle)"
   ]
  },
  {
   "cell_type": "markdown",
   "metadata": {},
   "source": [
    "The total number of words is:"
   ]
  },
  {
   "cell_type": "code",
   "execution_count": 29,
   "metadata": {},
   "outputs": [
    {
     "data": {
      "text/plain": [
       "13836"
      ]
     },
     "execution_count": 29,
     "metadata": {},
     "output_type": "execute_result"
    }
   ],
   "source": [
    "len(voc)"
   ]
  },
  {
   "cell_type": "markdown",
   "metadata": {},
   "source": [
    "### 3.1.1) Create your index!\n",
    "*invertedIndex = {termID : doc}*"
   ]
  },
  {
   "cell_type": "code",
   "execution_count": 30,
   "metadata": {},
   "outputs": [],
   "source": [
    "#Build invertedIndex\n",
    "# invertedIndex = {termID : doc}\n",
    "def invertedIndex(vocabulary):\n",
    "    invertedIndex= {}\n",
    "    for key,value in vocabulary.items():\n",
    "        for i in value:\n",
    "            if (voc[i] in invertedIndex):\n",
    "                invertedIndex[voc[i]] = invertedIndex[voc[i]] + [key]\n",
    "            else:\n",
    "                invertedIndex[voc[i]] = [key]\n",
    "    return invertedIndex"
   ]
  },
  {
   "cell_type": "code",
   "execution_count": 31,
   "metadata": {},
   "outputs": [],
   "source": [
    "invertedDic = invertedIndex(dict_)"
   ]
  },
  {
   "cell_type": "markdown",
   "metadata": {},
   "source": [
    "If you are interested in seeing the inverted index, open the file `'inverted.json'` which is in the GitHub repository."
   ]
  },
  {
   "cell_type": "code",
   "execution_count": 23,
   "metadata": {},
   "outputs": [],
   "source": [
    "#Save our invertedIndex file for future use.\n",
    "with open('inverted.json', 'w') as fp:\n",
    "    json.dump(invertedDic, fp)"
   ]
  },
  {
   "cell_type": "markdown",
   "metadata": {},
   "source": [
    "### 3.1.2) Execute the query\n",
    "Given a query, that we let the user enter."
   ]
  },
  {
   "cell_type": "code",
   "execution_count": 19,
   "metadata": {},
   "outputs": [
    {
     "name": "stdout",
     "output_type": "stream",
     "text": [
      "A beautiful and lovely room with garden !\n"
     ]
    }
   ],
   "source": [
    "query = str(input().split())"
   ]
  },
  {
   "cell_type": "code",
   "execution_count": 20,
   "metadata": {},
   "outputs": [],
   "source": [
    "qnorm = wordNormlization(query) #Normalize the query"
   ]
  },
  {
   "cell_type": "markdown",
   "metadata": {},
   "source": [
    "Show how the query became after applying the function `wordNormalization(query)` which applies stemming, lemmatization and removing punctuations."
   ]
  },
  {
   "cell_type": "code",
   "execution_count": 21,
   "metadata": {},
   "outputs": [
    {
     "data": {
      "text/plain": [
       "['beauti', 'love', 'room', 'garden']"
      ]
     },
     "execution_count": 21,
     "metadata": {},
     "output_type": "execute_result"
    }
   ],
   "source": [
    "qnorm"
   ]
  },
  {
   "cell_type": "markdown",
   "metadata": {},
   "source": [
    "**What documents do we want?**\n",
    "Since we are dealing with conjunctive queries (***AND***), each of the returned documents should contain all the words in the query. \n",
    "`AND <--> intersection`\n",
    "\n",
    "We use set intersection to find the query words in all the documents. Our approach is:\n",
    "\n",
    "- **First,** we store the documents that contain the first word.\n",
    "- **Second,** we check the intersection of the first word with the second word. If we found that there is a common documents for each word, we store the common files into `inter` set and continue to find the intersection with the next word. In the meantime, if we don't find any intersection with the words; we stop looking for the document that contain other words. "
   ]
  },
  {
   "cell_type": "code",
   "execution_count": 33,
   "metadata": {},
   "outputs": [],
   "source": [
    "inter = set() #set with the documents that contain all the words in the query\n",
    "switch = True\n",
    "for word in qnorm:\n",
    "    if word in voc:\n",
    "        if (switch):\n",
    "            inter = inter.union(invertedDic[voc[word]])\n",
    "            switch = False\n",
    "        if(len(inter) >0):\n",
    "                inter = inter.intersection(set(invertedDic[voc[word]]))\n",
    "        else:\n",
    "            break"
   ]
  },
  {
   "cell_type": "markdown",
   "metadata": {},
   "source": [
    "Show what are all the documents that contain all the words contained in the query:"
   ]
  },
  {
   "cell_type": "code",
   "execution_count": 34,
   "metadata": {},
   "outputs": [
    {
     "data": {
      "text/plain": [
       "9"
      ]
     },
     "execution_count": 34,
     "metadata": {},
     "output_type": "execute_result"
    }
   ],
   "source": [
    "len(inter)"
   ]
  },
  {
   "cell_type": "markdown",
   "metadata": {},
   "source": [
    "### Final output of the query"
   ]
  },
  {
   "cell_type": "code",
   "execution_count": 45,
   "metadata": {},
   "outputs": [
    {
     "data": {
      "text/html": [
       "<table>\n",
       "<tbody>\n",
       "<tr><td>Spacious Private Room and Bath                    </td><td>Beautiful Mid-Century home in the heart of Denton surrounded by trees, community garden, and parks. We are two adventure-seeking, music and art appreciating, animal loving individuals who are opening our home to like-minded travelers.                                                                                                                                                                                                                                                                                                                                                                                                                                                                                                                                                                                                                                                                                                                                                                                                                                                                                                                                                                                                                                                                                                                                                                                                                                                                                                                                                                                                                                                                                                                                                                                                                                                                                                                                                                                                                                                                                                                                                                                                                                                                                                                                                                                                                                                                                                                                                                                                                                                                                                                                                                                                                                                                                                                                                                                                                                                                                                                                                                                                                                                                                                                                                                                                                                                                                </td><td>Denton    </td><td>https://www.airbnb.com/rooms/8064889?location=Corinth%2C%20TX      </td></tr>\n",
       "<tr><td>Beautiful queen bedroom in NW Austin              </td><td>My house is close to Lakeline Mall, highways and the toll road, restaurants, grocery stores, hike and bike trails, parks, Lake Travis. You’ll love my home because of the quiet, safe neighborhood, the light, the really comfy queen size bed, the sunny kitchen, the gardens, hammocks and hot tub. My place is good for couples, solo adventurers, business travelers, and families (with kids). I also have 2 other rooms so if you need more beds please check out my other listings too.                                                                                                                                                                                                                                                                                                                                                                                                                                                                                                                                                                                                                                                                                                                                                                                                                                                                                                                                                                                                                                                                                                                                                                                                                                                                                                                                                                                                                                                                                                                                                                                                                                                                                                                                                                                                                                                                                                                                                                                                                                                                                                                                                                                                                                                                                                                                                                                                                                                                                                                                                                                                                                                                                                                                                                                                                                                                                                                                                                                                                            </td><td>Austin    </td><td>https://www.airbnb.com/rooms/16755710?location=Cedar%20Park%2C%20TX</td></tr>\n",
       "<tr><td>Historic Mansion Downtown Ft Worth; Bass Hall; TCU</td><td>Less than 2 miles from TCU, the Fort Worth Convention Center Botanical Gardens; Bass Hall, Magnolia Ave.\\n\\nA beautiful one-hundred year old historic mansion listed on the National Registry, one of Fort Worth's landmark houses. Stepping through the front doors is like stepping back in time to another more gracious era- Lovely period furnishings abound, high ceilings with hardwood floors beckon throughout, adorned with gorgeous Persian rugs, in spacious light-filled rooms, and crystal chandeliers.                                                                                                                                                                                                                                                                                                                                                                                                                                                                                                                                                                                                                                                                                                                                                                                                                                                                                                                                                                                                                                                                                                                                                                                                                                                                                                                                                                                                                                                                                                                                                                                                                                                                                                                                                                                                                                                                                                                                                                                                                                                                                                                                                                                                                                                                                                                                                                                                                                                                                                                                                                                                                                                                                                                                                                                                                                                                                                                                                                                                     </td><td>Fort Worth</td><td>https://www.airbnb.com/rooms/8664808?location=Burleson%2C%20TX     </td></tr>\n",
       "<tr><td>Garden Bedroom                                    </td><td>Comfortable and private, the garden bedroom is ideal for a long weekend or festival stay. It features a private closet, a full-sized bed and a lovely view of the backyard. \\n\\nCommon spaces are here for your use as well. Cook a meal and stick to your travel budget, sit in the living room front window with a cup of coffee and watch the peacocks in the morning or enjoy the sunshine and garden from the back patio. \\n\\nIf being out and about in Austin is your goal, our neighborhood is central and there are many easy options for getting around the city. We have and love dogs. Please get in touch if you would like to bring yours!\\n\\nThere are so many things to love about our neighborhood. Not only are we super close to great parkland, bars, restaurants, coffee shops, food trailers and vintage shops, we're surrounded by huge live oaks and peacocks! The neighbors are open and friendly and have made us feel welcome from the start. Some of our favorite places include Skylark Lounge, Contigo, Dai Due, Sugar Mama's, Coldtowne Theater, The Work Horse, Foreign and Domestic, Drink Well, Kome, Tyson's Tacos, Room Service Vintage, Uptown Modern, Michi Ramen, Big Bertha's and Lucy's Fried Chicken. We also really dig our backyard patio and grill, and we think you will, too.\\n\\nOur neighborhood connects directly to the Mueller Greenway trails, putting guests less than a mile away from The Thinkery and Mueller Park (they have a great Farmer's Market on Sundays and a beautiful loop for walkers and runners alike). By bike, take the Greenway two miles west to UT, North Loop or Hyde Park, take it a mile southeast to Cherrywood or Manor Road, five miles further and you're in the thick of the East Side &amp; downtown without ever having to leave a bike lane. If cycling is not your thing, shared rides are abundant (getme is a good app) as are Car To Go cars. There is also a bus stop less than two blocks from the house, and we are two miles from the Capmetro station at Highland. I-35 is literally a stone's throw from the house, putting you just a few exits from wherever you want to be in Austin. If you are interested, we can provide bike rental services and route recommendations.\\n\\nWe have two dogs, one big and one small. Although we are responsible owners and you will find the house clean, please consider this if you are afraid of dogs or have allergies. On the other hand, if you would like to bring your well-behaved dog, please reach out and we will see if this can be arranged.\\n\\nOur neighborhood connects directly to the Mueller Greenway trails, putting guests less than a mile away from The Thinkery and Mueller Park (they have a great Farmer's Market on Sundays and a beautiful loop for walkers and runners alike). By bike, take the Greenway two miles west to UT, North Loop or Hyde Park, take it a mile southeast to Cherrywood or Manor Road, five miles further and you're in the thick of the East Side &amp; downtown without ever having to leave a bike lane. If cycling is not your thing, rideshares and cabs are abundant, as are Car To Go cars. There is also a bus stop less than two blocks from the house, and we are two miles from the Capmetro station at Highland. I-35 is a stone's throw from the house, putting you just a few exits from wherever you want to be in Austin. If you are interested, we can provide bike rental services and route recommendations.</td><td>Austin    </td><td>https://www.airbnb.com/rooms/5096161?location=Austin%2C%20TX       </td></tr>\n",
       "<tr><td>Dallas Downton Abbey                              </td><td>Our Dallas Downton Abbey is close to downtown, Southern Methodist University, George W. Bush Library, the beautiful shops at Northpark and Highland Park Village, The Perot Museum, and Love field Airport. You’ll love this gorgeous retreat in the city because it is elegant, safe, clean, and bright, with lush gardens and tree views and exquisite craftsmanship, it includes a full home spa with a Vichy shower, three steam rooms, with a large salt water pool and hot tub, and a full time house manager.                                                                                                                                                                                                                                                                                                                                                                                                                                                                                                                                                                                                                                                                                                                                                                                                                                                                                                                                                                                                                                                                                                                                                                                                                                                                                                                                                                                                                                                                                                                                                                                                                                                                                                                                                                                                                                                                                                                                                                                                                                                                                                                                                                                                                                                                                                                                                                                                                                                                                                                                                                                                                                                                                                                                                                                                                                                                                                                                                                                                      </td><td>Dallas    </td><td>https://www.airbnb.com/rooms/14254297?location=Addison%2C%20TX     </td></tr>\n",
       "<tr><td>Spacious Private Room and Bath                    </td><td>Beautiful Mid-Century home in the heart of Denton surrounded by trees, community garden, and parks. We are two adventure-seeking, music and art appreciating, animal loving individuals who are opening our home to like-minded travelers.                                                                                                                                                                                                                                                                                                                                                                                                                                                                                                                                                                                                                                                                                                                                                                                                                                                                                                                                                                                                                                                                                                                                                                                                                                                                                                                                                                                                                                                                                                                                                                                                                                                                                                                                                                                                                                                                                                                                                                                                                                                                                                                                                                                                                                                                                                                                                                                                                                                                                                                                                                                                                                                                                                                                                                                                                                                                                                                                                                                                                                                                                                                                                                                                                                                                                </td><td>Denton    </td><td>https://www.airbnb.com/rooms/8064889?location=Argyle%2C%20TX       </td></tr>\n",
       "<tr><td>Beautiful king bedroom in NW Austin               </td><td>My house is close to Lakeline Mall, highways and the toll road, restaurants, grocery stores, hike and bike trails, parks, Lake Travis. You’ll love my home because of the quiet, safe neighborhood, the light, the really comfy king size bed, the sunny kitchen, the gardens, hammocks and hot tub.. My place is good for couples, solo adventurers, business travelers, and families (with kids). I also have 2 other rooms so if you need more beds please check out my other listings too.                                                                                                                                                                                                                                                                                                                                                                                                                                                                                                                                                                                                                                                                                                                                                                                                                                                                                                                                                                                                                                                                                                                                                                                                                                                                                                                                                                                                                                                                                                                                                                                                                                                                                                                                                                                                                                                                                                                                                                                                                                                                                                                                                                                                                                                                                                                                                                                                                                                                                                                                                                                                                                                                                                                                                                                                                                                                                                                                                                                                                            </td><td>Austin    </td><td>https://www.airbnb.com/rooms/15162593?location=Cedar%20Park%2C%20TX</td></tr>\n",
       "<tr><td>Historic Mansion Downtown Ft Worth; Bass Hall; TCU</td><td>Less than 2 miles from TCU, the Fort Worth Convention Center Botanical Gardens; Bass Hall, Magnolia Ave.\\n\\nA beautiful one-hundred year old historic mansion listed on the National Registry, one of Fort Worth's landmark houses. Stepping through the front doors is like stepping back in time to another more gracious era- Lovely period furnishings abound, high ceilings with hardwood floors beckon throughout, adorned with gorgeous Persian rugs, in spacious light-filled rooms, and crystal chandeliers.                                                                                                                                                                                                                                                                                                                                                                                                                                                                                                                                                                                                                                                                                                                                                                                                                                                                                                                                                                                                                                                                                                                                                                                                                                                                                                                                                                                                                                                                                                                                                                                                                                                                                                                                                                                                                                                                                                                                                                                                                                                                                                                                                                                                                                                                                                                                                                                                                                                                                                                                                                                                                                                                                                                                                                                                                                                                                                                                                                                                     </td><td>Fort Worth</td><td>https://www.airbnb.com/rooms/8664808?location=Benbrook%2C%20TX     </td></tr>\n",
       "<tr><td>Spacious Private Room and Bath                    </td><td>Beautiful Mid-Century home in the heart of Denton surrounded by trees, community garden, and parks. We are two adventure-seeking, music and art appreciating, animal loving individuals who are opening our home to like-minded travelers.                                                                                                                                                                                                                                                                                                                                                                                                                                                                                                                                                                                                                                                                                                                                                                                                                                                                                                                                                                                                                                                                                                                                                                                                                                                                                                                                                                                                                                                                                                                                                                                                                                                                                                                                                                                                                                                                                                                                                                                                                                                                                                                                                                                                                                                                                                                                                                                                                                                                                                                                                                                                                                                                                                                                                                                                                                                                                                                                                                                                                                                                                                                                                                                                                                                                                </td><td>Denton    </td><td>https://www.airbnb.com/rooms/8064889?location=Aubrey%2C%20TX       </td></tr>\n",
       "</tbody>\n",
       "</table>"
      ],
      "text/plain": [
       "<IPython.core.display.HTML object>"
      ]
     },
     "metadata": {},
     "output_type": "display_data"
    }
   ],
   "source": [
    "my_dataframe = pd.DataFrame()\n",
    "for file in inter:\n",
    "    table = pd.read_table('Doc_i/'+ file,sep='\\t', header = None,index_col = None)\n",
    "    my_dataframe = my_dataframe.append(pd.DataFrame(table))\n",
    "\n",
    "df1 = my_dataframe.rename(columns={0: 'average_rate_per_night', 1:'bedrooms_count', 2:'City',\n",
    "                  3:'date_of_listing',4:'Description',5:'latitude',\n",
    "                                                6:'longitude',7:'Title',8:'Url'})\n",
    "\n",
    "df2 = df1[['Title','Description','City','Url']]\n",
    "df2.drop_duplicates\n",
    "\n",
    "display(HTML(tabulate(df2,showindex=False, tablefmt=\"html\")))"
   ]
  },
  {
   "cell_type": "markdown",
   "metadata": {},
   "source": [
    "##### Duplicate strategy:\n",
    "If we read the airbnb policy on their site we read that publishing the ad is completely free.\n",
    "But when the host receives a reservation, airbnb charges the hosts for the costs of the service.\n",
    "So for airbnb if a host enters the ad multiple times does not change anything but the result of the customer search does not have to report duplicates.That's why we decided to delete them now and not before."
   ]
  },
  {
   "cell_type": "markdown",
   "metadata": {},
   "source": [
    "### 3.2) Conjunctive query & Ranking score\n",
    "In the new Search Engine, given a query, we want to get the top-k documents related to the query.\n",
    "### 3.2.1) Inverted index\n",
    "In our second Inverted Index for each word we want the list of documents in which it is contained in, and the relative `tfIdf` score.\n",
    "\n",
    "***Term Frequency `TF`***: is the number of times each word shows up in a particular document(text). We use `Counter()` function to count the number of occurence of each words in the document. To calculate the TF of a term, we divide the occurence of the word by length of the text. \n",
    "$$\\huge tf_i,_j = \\frac{n_i,_j}{\\sum_kn_i,_j}$$\n",
    "\n",
    "$$n_i,_j = \\mathcal{number\\, of\\, times\\, the\\, word \\,appears\\, in \\,a \\,document}$$\n",
    "\n",
    "$$\\sum_kn_i,_j = \\mathcal{the\\, total\\, number\\, of\\, words\\, in \\,that \\,document}$$"
   ]
  },
  {
   "cell_type": "code",
   "execution_count": 12,
   "metadata": {},
   "outputs": [],
   "source": [
    "def term_freq(term, text):\n",
    "    termcountdic = Counter(text)\n",
    "    return termcountdic[term] / len(text)"
   ]
  },
  {
   "cell_type": "markdown",
   "metadata": {},
   "source": [
    "***Inverse Document Frequency `IDF`:*** is the total number of documents divided by the number of documents the term or word shows up in. The words that occur rarely in the corpus have a high IDF score. \n",
    "$$\\huge idf(w) = \\frac{N}{df_t}$$"
   ]
  },
  {
   "cell_type": "code",
   "execution_count": 13,
   "metadata": {},
   "outputs": [],
   "source": [
    "with open('listwords.txt') as f:\n",
    "    Allword = json.load(f)"
   ]
  },
  {
   "cell_type": "code",
   "execution_count": 14,
   "metadata": {},
   "outputs": [],
   "source": [
    "wordDict = dict(Counter(Allword))\n",
    "N = 18259\n",
    "def idf(Allword,word):\n",
    "    return math.log(N/float(wordDict[word]))"
   ]
  },
  {
   "cell_type": "code",
   "execution_count": null,
   "metadata": {},
   "outputs": [],
   "source": [
    "wordDict"
   ]
  },
  {
   "cell_type": "markdown",
   "metadata": {},
   "source": [
    "We build our InvertedIndex by scoring the TFIDF values for each term(word). `TFIDF` score (w) for a word in a document.\n",
    "\n",
    "$$\\huge w_i,_j = tf_i,_j \\times\\frac{N}{df_i}$$\n",
    "\n",
    "$$tf_i,_j = \\mathcal{number\\, of\\, occurrences\\, of\\, i \\,in\\, in \\,j}$$\n",
    "\n",
    "$$df_i= \\mathcal{number\\, of\\, documents\\, containing\\, i}$$\n",
    "\n",
    "$$N = \\mathcal{ total \\, number \\, of\\, documents}$$"
   ]
  },
  {
   "cell_type": "code",
   "execution_count": 15,
   "metadata": {},
   "outputs": [],
   "source": [
    "def wordNorm(text):\n",
    "    stemmer = SnowballStemmer(\"english\")\n",
    "    lemmatizer = WordNetLemmatizer()\n",
    "\n",
    "    Normalized = []\n",
    "    tokenizer = RegexpTokenizer(r'\\w+')\n",
    "    word_list = tokenizer.tokenize(text.lower())\n",
    "    Remove_stopwords = [stemmer.stem(lemmatizer.lemmatize(word)) for word in word_list if word not in stopwords.words('english')]\n",
    "    \n",
    "    d = enchant.Dict(\"en_US\")\n",
    "    for word in Remove_stopwords:\n",
    "        if not word.isdigit() and len(word)>1 and d.check(word):#remove the punctuation\n",
    "            Normalized.append(word)\n",
    "    return Normalized"
   ]
  },
  {
   "cell_type": "code",
   "execution_count": 42,
   "metadata": {},
   "outputs": [],
   "source": [
    "def invertedIndex(vocabulary,path):\n",
    "    # invertedIndex = {termID : (doc, TF*IDF)}\n",
    "    invertedIndex = {}\n",
    "    counter = 0\n",
    "    for file in glob.glob(path):\n",
    "        df = pd.read_table(file,sep='\\t',names=['average_rate_per_night','bedrooms_count',\n",
    "                                                'city','date_of_listing',\n",
    "                                                'description','latitude','longitude','title','url'])\n",
    "       \n",
    "        desc = wordNorm(str(list(df['description'])))\n",
    "        title = wordNorm(str(list(df['title'])))\n",
    "        for word in vocabulary:\n",
    "                tf = term_freq(word,desc+title)\n",
    "                if(tf>0):\n",
    "                    if(vocabulary[word] in invertedIndex.keys()):\n",
    "                        invertedIndex[vocabulary[word]] +=[(file,tf*idf(Allword,word))] #[(file,tfidf(word,file))]\n",
    "                    else:\n",
    "                        invertedIndex[vocabulary[word]] = [(file,tf*idf(Allword,word))]\n",
    "\n",
    "    return invertedIndex"
   ]
  },
  {
   "cell_type": "code",
   "execution_count": null,
   "metadata": {},
   "outputs": [],
   "source": [
    "invIndex = invertedIndex(voc,'readall/*')"
   ]
  },
  {
   "cell_type": "code",
   "execution_count": 16,
   "metadata": {},
   "outputs": [],
   "source": [
    "with open('IFIDFinverted.json','r') as f:\n",
    "    invIndex = json.load(f)"
   ]
  },
  {
   "cell_type": "markdown",
   "metadata": {},
   "source": [
    "This intersection function return the common files (i.e. Conjuctive Query) with their corresponding **TFIDF score**."
   ]
  },
  {
   "cell_type": "code",
   "execution_count": 17,
   "metadata": {},
   "outputs": [],
   "source": [
    "def intersection(qnorm,invIndex,vocab,inter):\n",
    "    #This intersection function return the common files with their corresponding TFIDF score\n",
    "    IDs = []\n",
    "    doclist = []\n",
    "    tmp = []\n",
    "    for word in qnorm:\n",
    "        IDs.append(vocab[str(word)])\n",
    "        \n",
    "    for file in inter:\n",
    "        for id in IDs:\n",
    "            tmp = invIndex[str(id)]\n",
    "            for files in tmp:\n",
    "                if file == files[0]:\n",
    "                    doclist.append(files)\n",
    "\n",
    "    return doclist"
   ]
  },
  {
   "cell_type": "markdown",
   "metadata": {},
   "source": [
    "To calculate the TF score of query, we count the occurence of the `word` and divide it by the summation of `all word occurences`.\n",
    "To calculate the IDF score of query, we calculate the sum of squared word occurences and eventually return the square root of the summation. Additionaly, we created the `dot product function`, `document_length`and `query length functions` that will help us to find the cosine similarity between the query and whole documents. \n",
    "    $$ Cosine Similarity = \\frac{Dot Product(Query,Document)}{||Query||*||Document||}$$  "
   ]
  },
  {
   "cell_type": "code",
   "execution_count": 18,
   "metadata": {},
   "outputs": [],
   "source": [
    "def Q_tf(word,text):\n",
    "    tf = Counter(text)\n",
    "    return(tf[word]/sum(tf.values()))\n",
    "def Q_idf(query):\n",
    "    count = Counter(query)\n",
    "    sumsquare = 0\n",
    "    for i in count.values():\n",
    "        sumsquare+= np.square(i)\n",
    "    return np.sqrt(sumsquare)\n",
    "\n",
    "def query_length(query):    \n",
    "    count = Counter(query)\n",
    "    sumsquare = 0\n",
    "    for i in count.values():\n",
    "        sumsquare+= np.square(i)\n",
    "    return np.sqrt(sumsquare)\n",
    "\n",
    "def dot_product(q,doc):\n",
    "    sumofproduct = 0\n",
    "    for i in q:\n",
    "            sumofproduct += Q_tf(i,q)*Q_idf(q)*doc[1]\n",
    "    return(sumofproduct)\n",
    "def document_length(doc):\n",
    "    sumsquare = 0\n",
    "    for i in doc:\n",
    "        sumsquare+=i[1]**2\n",
    "    return np.sqrt(sumsquare)"
   ]
  },
  {
   "cell_type": "markdown",
   "metadata": {},
   "source": [
    "### 3.2.2) Execute the query\n",
    "Once we get the right set of documents, we want to know which are the most similar according to the query. For this purpose, as scoring function we will use the `Cosine Similarity` with respect to the tfIdf representations of the documents.\n",
    "\n",
    "The input query entered by the user should be used to match the relevant documents and score them. "
   ]
  },
  {
   "cell_type": "code",
   "execution_count": 19,
   "metadata": {},
   "outputs": [
    {
     "name": "stdout",
     "output_type": "stream",
     "text": [
      "My Dream is to go to Dallas\n"
     ]
    },
    {
     "data": {
      "text/html": [
       "<div>\n",
       "<style scoped>\n",
       "    .dataframe tbody tr th:only-of-type {\n",
       "        vertical-align: middle;\n",
       "    }\n",
       "\n",
       "    .dataframe tbody tr th {\n",
       "        vertical-align: top;\n",
       "    }\n",
       "\n",
       "    .dataframe thead th {\n",
       "        text-align: right;\n",
       "    }\n",
       "</style>\n",
       "<table border=\"1\" class=\"dataframe\">\n",
       "  <thead>\n",
       "    <tr style=\"text-align: right;\">\n",
       "      <th></th>\n",
       "      <th>Title</th>\n",
       "      <th>Description</th>\n",
       "      <th>City</th>\n",
       "      <th>Url</th>\n",
       "      <th>Similarity</th>\n",
       "    </tr>\n",
       "  </thead>\n",
       "  <tbody>\n",
       "    <tr>\n",
       "      <th>0</th>\n",
       "      <td>Beautiful home by SeaWorld area</td>\n",
       "      <td>Cool comfortable bedroom but shared with other...</td>\n",
       "      <td>San Antonio</td>\n",
       "      <td>https://www.airbnb.com/rooms/12151340?location...</td>\n",
       "      <td>0.37</td>\n",
       "    </tr>\n",
       "    <tr>\n",
       "      <th>0</th>\n",
       "      <td>PrivateMasterBed/Bath NoExtra fees</td>\n",
       "      <td>LQQK @my reviews! (Other room)\\nThis listing h...</td>\n",
       "      <td>Belton</td>\n",
       "      <td>https://www.airbnb.com/rooms/3669104?location=...</td>\n",
       "      <td>0.24</td>\n",
       "    </tr>\n",
       "    <tr>\n",
       "      <th>0</th>\n",
       "      <td>PrivateMasterBed/Bath NoExtra fees</td>\n",
       "      <td>LQQK @my reviews! (Other room)\\nThis listing h...</td>\n",
       "      <td>Belton</td>\n",
       "      <td>https://www.airbnb.com/rooms/3669104?location=...</td>\n",
       "      <td>0.23</td>\n",
       "    </tr>\n",
       "    <tr>\n",
       "      <th>0</th>\n",
       "      <td>Resort Attractions' Bar Room Suite!</td>\n",
       "      <td>The mahogany bar sets the stage for fun! Enter...</td>\n",
       "      <td>Willis</td>\n",
       "      <td>https://www.airbnb.com/rooms/315458?location=C...</td>\n",
       "      <td>0.18</td>\n",
       "    </tr>\n",
       "    <tr>\n",
       "      <th>0</th>\n",
       "      <td>Solo world traveler private room</td>\n",
       "      <td>Traveling around the world solo is one of the ...</td>\n",
       "      <td>San Antonio</td>\n",
       "      <td>https://www.airbnb.com/rooms/15789425?location...</td>\n",
       "      <td>0.16</td>\n",
       "    </tr>\n",
       "  </tbody>\n",
       "</table>\n",
       "</div>"
      ],
      "text/plain": [
       "                                 Title  \\\n",
       "0      Beautiful home by SeaWorld area   \n",
       "0   PrivateMasterBed/Bath NoExtra fees   \n",
       "0   PrivateMasterBed/Bath NoExtra fees   \n",
       "0  Resort Attractions' Bar Room Suite!   \n",
       "0     Solo world traveler private room   \n",
       "\n",
       "                                         Description         City  \\\n",
       "0  Cool comfortable bedroom but shared with other...  San Antonio   \n",
       "0  LQQK @my reviews! (Other room)\\nThis listing h...       Belton   \n",
       "0  LQQK @my reviews! (Other room)\\nThis listing h...       Belton   \n",
       "0  The mahogany bar sets the stage for fun! Enter...       Willis   \n",
       "0  Traveling around the world solo is one of the ...  San Antonio   \n",
       "\n",
       "                                                 Url  Similarity  \n",
       "0  https://www.airbnb.com/rooms/12151340?location...        0.37  \n",
       "0  https://www.airbnb.com/rooms/3669104?location=...        0.24  \n",
       "0  https://www.airbnb.com/rooms/3669104?location=...        0.23  \n",
       "0  https://www.airbnb.com/rooms/315458?location=C...        0.18  \n",
       "0  https://www.airbnb.com/rooms/15789425?location...        0.16  "
      ]
     },
     "execution_count": 19,
     "metadata": {},
     "output_type": "execute_result"
    }
   ],
   "source": [
    "query = str(input().split())\n",
    "qnorm = wordNorm(query)\n",
    "inter = set() #set with the documents that contain all the words in the query\n",
    "switch = True\n",
    "tmp = set()\n",
    "sumTfIDF = 0\n",
    "for word in qnorm:\n",
    "    if word in voc:\n",
    "        file_score = invIndex[str(voc[word])]\n",
    "        if (switch):\n",
    "            for file in file_score:\n",
    "                inter.add(file[0])\n",
    "            switch = False\n",
    "        if(len(inter) >0):\n",
    "            for file in file_score:\n",
    "                tmp.add(file[0])\n",
    "            inter = inter.intersection(tmp)\n",
    "        else:\n",
    "            break\n",
    "inter = intersection(qnorm,invIndex,voc,inter)\n",
    "cosine_similarity = {}\n",
    "for i in inter:\n",
    "    cosine_similarity[i[0]] = dot_product(qnorm,i)/(query_length(qnorm)*document_length(inter))\n",
    "sortedResult = sorted(cosine_similarity.items(), key=lambda kv: kv[1],reverse=True)\n",
    "\n",
    "topFiveResult = sortedResult[:5]\n",
    "topFiveSimilarityScore = []\n",
    "for i in topFiveResult:\n",
    "    topFiveSimilarityScore.append(round(i[1],2))\n",
    "Similarity = pd.Series(topFiveSimilarityScore)\n",
    "\n",
    "my_dataframe = pd.DataFrame()\n",
    "for file in topFiveResult:\n",
    "    table = pd.read_table(str(file[0]),sep='\\t', header = None,index_col = None)\n",
    "    my_dataframe = my_dataframe.append(pd.DataFrame(table))\n",
    "df1 = my_dataframe.rename(columns={0: 'average_rate_per_night', 1:'bedrooms_count', 2:'City',\n",
    "                  3:'date_of_listing',4:'Description',5:'latitude',\n",
    "                                                6:'longitude',7:'Title',8:'Url'})\n",
    "df1[\"Similarity\"] = Similarity.values\n",
    "df2 = df1[['Title','Description','City','Url','Similarity']]\n",
    "df2[:5]"
   ]
  },
  {
   "cell_type": "markdown",
   "metadata": {},
   "source": [
    "### Step 4: Define a new score!\n",
    "\n",
    "A single user can give in input more information than the single textual query, in our case \n",
    "we ask the user to enter:\n",
    "- the price he would like to spend per night,\n",
    "- the number of rooms he needs \n",
    "- where he wants to go (we ask this through latitude and longitude)."
   ]
  },
  {
   "cell_type": "code",
   "execution_count": 46,
   "metadata": {},
   "outputs": [
    {
     "name": "stdout",
     "output_type": "stream",
     "text": [
      "A beautiful and lovely room with garden !\n"
     ]
    }
   ],
   "source": [
    "query = str(input().split())\n",
    "qnorm = wordNormlization(query) #Normalize the query"
   ]
  },
  {
   "cell_type": "code",
   "execution_count": 47,
   "metadata": {},
   "outputs": [
    {
     "name": "stdout",
     "output_type": "stream",
     "text": [
      "Enter the number of rooms you need: 3\n"
     ]
    }
   ],
   "source": [
    "room = int(input('Enter the number of rooms you need: '))"
   ]
  },
  {
   "cell_type": "code",
   "execution_count": 48,
   "metadata": {},
   "outputs": [
    {
     "name": "stdout",
     "output_type": "stream",
     "text": [
      "Enter how much you would like to spend per night: 34\n"
     ]
    }
   ],
   "source": [
    "price = int(input('Enter how much you would like to spend per night: '))"
   ]
  },
  {
   "cell_type": "code",
   "execution_count": 49,
   "metadata": {},
   "outputs": [
    {
     "name": "stdout",
     "output_type": "stream",
     "text": [
      "32.892048 -96.871741\n"
     ]
    }
   ],
   "source": [
    "latitude, longitude = (input().split(' '))\n",
    "lat = float(latitude)\n",
    "long = float(longitude)"
   ]
  },
  {
   "cell_type": "code",
   "execution_count": 56,
   "metadata": {},
   "outputs": [],
   "source": [
    "requests = [price, room, lat,long] #The user's request to which we must respond"
   ]
  },
  {
   "cell_type": "markdown",
   "metadata": {},
   "source": [
    "As a starting point, get the query-related documents by exploiting the search engine of Step 3.1.:"
   ]
  },
  {
   "cell_type": "code",
   "execution_count": 29,
   "metadata": {},
   "outputs": [],
   "source": [
    "inter = set() #set with the documents that contain all the words in the query\n",
    "switch = True\n",
    "for word in qnorm:\n",
    "    if word in voc:\n",
    "        if (switch):\n",
    "            inter = inter.union(invertedDic[str(voc[word])])\n",
    "            switch = False\n",
    "        if(len(inter) >0):\n",
    "                inter = inter.intersection(set(invertedDic[str(voc[word])]))\n",
    "        else:\n",
    "            break\n",
    "my_dataframe = pd.DataFrame()\n",
    "for file in inter:\n",
    "    table = pd.read_table('Doc_i/'+ file,sep='\\t', header = None,index_col = None)\n",
    "    my_dataframe = my_dataframe.append(pd.DataFrame(table))\n",
    "df1 = my_dataframe.rename(columns={0: 'average_rate_per_night', 1:'bedrooms_count', 2:'City',\n",
    "                  3:'date_of_listing',4:'Description',5:'latitude',\n",
    "                                                6:'longitude',7:'Title',8:'Url'})"
   ]
  },
  {
   "cell_type": "code",
   "execution_count": 53,
   "metadata": {},
   "outputs": [],
   "source": [
    "df1['price'] = df1['average_rate_per_night'].replace({'\\$':''}, regex = True)\n",
    "# We remove Dollar Sign from the data frame column, in this way we can consider the values of\n",
    "# df1['average_rate_per_night'] such as integer. We store this values in a new column."
   ]
  },
  {
   "cell_type": "markdown",
   "metadata": {},
   "source": [
    "Now we realize our **scoring function** that has as variable the price, the number of rooms needed and the place (as already mentioned above):"
   ]
  },
  {
   "cell_type": "code",
   "execution_count": 54,
   "metadata": {},
   "outputs": [],
   "source": [
    "def scoring_function(requests):\n",
    "    score = []\n",
    "    for row in df1.itertuples():\n",
    "        k = distance.distance((lat, long), (row.latitude, row.longitude)).km\n",
    "        #We calculate the distance between the coordinates entered by the user and those of the hotel\n",
    "        s = 0\n",
    "        if k == 0: #Great! This place is right where the user is looking!\n",
    "            s += 1 #For this, we add a point\n",
    "        elif  1 <= k <= 50:\n",
    "        #If the house is within a certain range of distance from the place requested by the user\n",
    "            s += 0.5 #It does not take the maximum score\n",
    "        else:\n",
    "            s += 0.01 #Too far!\n",
    "        if room == row.bedrooms_count: #Great! Just the number of rooms that the user was looking for!\n",
    "            s += 1 #For this, we add one point\n",
    "        elif room == (row.bedrooms_count-1) or room == (row.bedrooms_count + 1):\n",
    "            s += 0.7 #This is not exactly what was requested but still goes well\n",
    "        elif room == (row.bedrooms_count -2) or room == (row.bedrooms_count +2):\n",
    "            s += 0.01 #They're not user's kind of folks\n",
    "        if price == int(row.price): #Great! Exactly what was needed\n",
    "            s += 0.7\n",
    "        elif price < int(row.price): #wow...Even better! The price is lower\n",
    "            s += 1 \n",
    "        elif price > int(row.price): #Too expensive\n",
    "            s += 0.01\n",
    "        score.append(s)\n",
    "    return score"
   ]
  },
  {
   "cell_type": "code",
   "execution_count": 57,
   "metadata": {},
   "outputs": [],
   "source": [
    "all_scores = scoring_function(requests)"
   ]
  },
  {
   "cell_type": "code",
   "execution_count": 58,
   "metadata": {},
   "outputs": [],
   "source": [
    "df1['Score'] = all_scores \n",
    "# We add a new column to the dataframe with the score"
   ]
  },
  {
   "cell_type": "markdown",
   "metadata": {},
   "source": [
    "We use a **heap data structure** (we used the python `heapq` library) for maintaining the *top-k* documents."
   ]
  },
  {
   "cell_type": "code",
   "execution_count": 59,
   "metadata": {},
   "outputs": [],
   "source": [
    "ListofDataFrame = []\n",
    "for i in df1.values:\n",
    "    ListofDataFrame.append(i)\n",
    "top_five = heapq.nlargest(5, ListofDataFrame, key=itemgetter(11))"
   ]
  },
  {
   "cell_type": "code",
   "execution_count": 60,
   "metadata": {},
   "outputs": [],
   "source": [
    "heaped = pd.DataFrame(top_five,columns=['average_rate_per_night','bedrooms_count',\n",
    "                         'City','date_of_listing','Description','latitude','longitude','Title',\n",
    "                          'Url',9,'price','Score'])"
   ]
  },
  {
   "cell_type": "code",
   "execution_count": 36,
   "metadata": {},
   "outputs": [
    {
     "data": {
      "text/html": [
       "<div>\n",
       "<style scoped>\n",
       "    .dataframe tbody tr th:only-of-type {\n",
       "        vertical-align: middle;\n",
       "    }\n",
       "\n",
       "    .dataframe tbody tr th {\n",
       "        vertical-align: top;\n",
       "    }\n",
       "\n",
       "    .dataframe thead th {\n",
       "        text-align: right;\n",
       "    }\n",
       "</style>\n",
       "<table border=\"1\" class=\"dataframe\">\n",
       "  <thead>\n",
       "    <tr style=\"text-align: right;\">\n",
       "      <th></th>\n",
       "      <th>Title</th>\n",
       "      <th>Description</th>\n",
       "      <th>City</th>\n",
       "      <th>Url</th>\n",
       "      <th>Score</th>\n",
       "    </tr>\n",
       "  </thead>\n",
       "  <tbody>\n",
       "    <tr>\n",
       "      <th>0</th>\n",
       "      <td>Historic Mansion Downtown Ft Worth; Bass Hall;...</td>\n",
       "      <td>Less than 2 miles from TCU, the Fort Worth Con...</td>\n",
       "      <td>Fort Worth</td>\n",
       "      <td>https://www.airbnb.com/rooms/8664808?location=...</td>\n",
       "      <td>2.20</td>\n",
       "    </tr>\n",
       "    <tr>\n",
       "      <th>1</th>\n",
       "      <td>Kid-friendly cosy-luxury home</td>\n",
       "      <td>Luxurious 3200 sqft villa with 4 bedrooms, 3.5...</td>\n",
       "      <td>Allen</td>\n",
       "      <td>https://www.airbnb.com/rooms/13654931?location...</td>\n",
       "      <td>2.20</td>\n",
       "    </tr>\n",
       "    <tr>\n",
       "      <th>2</th>\n",
       "      <td>Kid-friendly cosy-luxury home</td>\n",
       "      <td>Luxurious 3200 sqft villa with 4 bedrooms, 3.5...</td>\n",
       "      <td>Allen</td>\n",
       "      <td>https://www.airbnb.com/rooms/13654931?location...</td>\n",
       "      <td>2.20</td>\n",
       "    </tr>\n",
       "    <tr>\n",
       "      <th>3</th>\n",
       "      <td>Historic Mansion Downtown Ft Worth; Bass Hall;...</td>\n",
       "      <td>Less than 2 miles from TCU, the Fort Worth Con...</td>\n",
       "      <td>Fort Worth</td>\n",
       "      <td>https://www.airbnb.com/rooms/8664808?location=...</td>\n",
       "      <td>2.20</td>\n",
       "    </tr>\n",
       "    <tr>\n",
       "      <th>4</th>\n",
       "      <td>Ocean Side Resort, Comfy Beds, Stylish decor!</td>\n",
       "      <td>Gorgeous grounds, 3 pools, hot tub, 3/4 mile w...</td>\n",
       "      <td>Galveston</td>\n",
       "      <td>https://www.airbnb.com/rooms/14593192?location...</td>\n",
       "      <td>2.01</td>\n",
       "    </tr>\n",
       "  </tbody>\n",
       "</table>\n",
       "</div>"
      ],
      "text/plain": [
       "                                               Title  \\\n",
       "0  Historic Mansion Downtown Ft Worth; Bass Hall;...   \n",
       "1                      Kid-friendly cosy-luxury home   \n",
       "2                      Kid-friendly cosy-luxury home   \n",
       "3  Historic Mansion Downtown Ft Worth; Bass Hall;...   \n",
       "4      Ocean Side Resort, Comfy Beds, Stylish decor!   \n",
       "\n",
       "                                         Description        City  \\\n",
       "0  Less than 2 miles from TCU, the Fort Worth Con...  Fort Worth   \n",
       "1  Luxurious 3200 sqft villa with 4 bedrooms, 3.5...       Allen   \n",
       "2  Luxurious 3200 sqft villa with 4 bedrooms, 3.5...       Allen   \n",
       "3  Less than 2 miles from TCU, the Fort Worth Con...  Fort Worth   \n",
       "4  Gorgeous grounds, 3 pools, hot tub, 3/4 mile w...   Galveston   \n",
       "\n",
       "                                                 Url  Score  \n",
       "0  https://www.airbnb.com/rooms/8664808?location=...   2.20  \n",
       "1  https://www.airbnb.com/rooms/13654931?location...   2.20  \n",
       "2  https://www.airbnb.com/rooms/13654931?location...   2.20  \n",
       "3  https://www.airbnb.com/rooms/8664808?location=...   2.20  \n",
       "4  https://www.airbnb.com/rooms/14593192?location...   2.01  "
      ]
     },
     "execution_count": 36,
     "metadata": {},
     "output_type": "execute_result"
    }
   ],
   "source": [
    "top_K = heaped[['Title','Description','City','Url','Score']]\n",
    "top_K #In our case K is 5"
   ]
  }
 ],
 "metadata": {
  "kernelspec": {
   "display_name": "Python 3",
   "language": "python",
   "name": "python3"
  },
  "language_info": {
   "codemirror_mode": {
    "name": "ipython",
    "version": 3
   },
   "file_extension": ".py",
   "mimetype": "text/x-python",
   "name": "python",
   "nbconvert_exporter": "python",
   "pygments_lexer": "ipython3",
   "version": "3.6.5"
  }
 },
 "nbformat": 4,
 "nbformat_minor": 2
}
