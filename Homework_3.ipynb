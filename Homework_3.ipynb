{
 "cells": [
  {
   "cell_type": "code",
   "execution_count": 42,
   "metadata": {},
   "outputs": [],
   "source": [
    "import csv\n",
    "import os\n",
    "import glob\n",
    "import enchant\n",
    "import pandas as pd\n",
    "import itertools as it\n",
    "from nltk.tokenize import sent_tokenize, word_tokenize,RegexpTokenizer\n",
    "from nltk.corpus import stopwords\n",
    "from nltk.stem.snowball import SnowballStemmer\n"
   ]
  },
  {
   "cell_type": "code",
   "execution_count": 43,
   "metadata": {},
   "outputs": [],
   "source": [
    "\n",
    "#Read the file and create a single tsv file for each record .  \n",
    "with open('Airbnb_Texas_Rentals.csv') as csvin:\n",
    "    reader = csv.reader(csvin)\n",
    "    counter = 1\n",
    "    for row in reader:\n",
    "        with open(\"data/doc_\"+str(counter)+\".tsv\",'w') as tsvout:\n",
    "            writer = csv.writer(tsvout, delimiter='\\t')\n",
    "            writer.writerow(row)\n",
    "            counter +=1"
   ]
  },
  {
   "cell_type": "code",
   "execution_count": 44,
   "metadata": {},
   "outputs": [],
   "source": [
    "#Normalize the word. i.e. tokenize,stemming, and removing punctuations\n",
    "def wordNorm(text):\n",
    "    stemmer = SnowballStemmer(\"english\")\n",
    "    Normalized = []\n",
    "    tokenizer = RegexpTokenizer(r'\\w+')\n",
    "    word_list = tokenizer.tokenize(text.lower())\n",
    "    Remove_stopwords = [word for word in word_list if word not in stopwords.words('english')]\n",
    "    stem_words = [stemmer.stem(word) for word in Remove_stopwords]\n",
    "    d = enchant.Dict(\"en_US\")\n",
    "    for word in stem_words:\n",
    "        if not word.isdigit() and len(word)>1 and d.check(word):#remove the punctuation\n",
    "            Normalized.append(word)\n",
    "    return Normalized"
   ]
  },
  {
   "cell_type": "code",
   "execution_count": 5,
   "metadata": {},
   "outputs": [],
   "source": [
    "def readall_documents(path):\n",
    "    words = []\n",
    "    for file in glob.glob(path):\n",
    "        df = pd.read_table(file,sep='\\t',names=['index','average_rate_per_night','bedrooms_count',\n",
    "                                                'city','date_of_listing','description','latitude',\n",
    "                                                'longitude','title','url'])\n",
    "        desc = wordNorm(str(list(df['description'])))\n",
    "        title = wordNorm(str(list(df['title'])))\n",
    "        for des, tit in it.zip_longest(desc,title):\n",
    "            if(des is not None):\n",
    "                words.append(des)\n",
    "            if(tit is not None):\n",
    "                words.append(tit)\n",
    "\n",
    "    return words"
   ]
  },
  {
   "cell_type": "code",
   "execution_count": 15,
   "metadata": {},
   "outputs": [],
   "source": [
    "#Read all the files inside test folder. Test folder contains all the tsv files\n",
    "Allword = readall_documents('test/*')"
   ]
  },
  {
   "cell_type": "code",
   "execution_count": 45,
   "metadata": {},
   "outputs": [],
   "source": [
    "def CreateVocabulary(allwords):\n",
    "    # This function take in input all words, create the set and assign an ID to each term\n",
    "    # vocabulary = {term : termID}\n",
    "    Vocabulary = {}\n",
    "    wordList = sorted(list(set(allwords)))\n",
    "    for ID, element in enumerate(wordList):\n",
    "        Vocabulary.update({element : ID})\n",
    "    return Vocabulary"
   ]
  },
  {
   "cell_type": "code",
   "execution_count": 32,
   "metadata": {},
   "outputs": [],
   "source": [
    "voc = CreateVocabulary(Allword)"
   ]
  },
  {
   "cell_type": "code",
   "execution_count": 39,
   "metadata": {},
   "outputs": [],
   "source": [
    "def term_freq(term, text):\n",
    "# Compute the term frequencies in a given text\n",
    "    count = 0\n",
    "    if len(text) <= 0:\n",
    "        return 0\n",
    "    else:\n",
    "        for ter in text:\n",
    "            if ter == term:\n",
    "                count += 1\n",
    "        return count / len(text)"
   ]
  },
  {
   "cell_type": "code",
   "execution_count": 46,
   "metadata": {},
   "outputs": [],
   "source": [
    "#Build invertedIndex\n",
    "def invertedIndex(vocabulary,path):\n",
    "    # invertedIndex = {termID : (doc, TF)}\n",
    "    invertedIndex = {}\n",
    "    counter = 0\n",
    "    for file in glob.glob(path):\n",
    "        df = pd.read_table(file,sep='\\t',names=['index','average_rate_per_night','bedrooms_count',\n",
    "                                                'city','date_of_listing','description','latitude',\n",
    "                                                'longitude','title','url'])\n",
    "        \n",
    "        desc = wordNorm(str(list(df['description'])))\n",
    "        title = wordNorm(str(list(df['title'])))\n",
    "        for word in vocabulary:\n",
    "            tf = term_freq(word, desc+title)\n",
    "            if(tf>0):\n",
    "                invertedIndex[vocabulary[word]] = [(file, tf)]\n",
    "\n",
    "    return invertedIndex"
   ]
  },
  {
   "cell_type": "code",
   "execution_count": 40,
   "metadata": {},
   "outputs": [],
   "source": [
    "invIndex = invertedIndex(voc,'test/*')"
   ]
  },
  {
   "cell_type": "code",
   "execution_count": 48,
   "metadata": {},
   "outputs": [
    {
     "data": {
      "text/plain": [
       "dict"
      ]
     },
     "execution_count": 48,
     "metadata": {},
     "output_type": "execute_result"
    }
   ],
   "source": []
  },
  {
   "cell_type": "code",
   "execution_count": null,
   "metadata": {},
   "outputs": [],
   "source": []
  }
 ],
 "metadata": {
  "kernelspec": {
   "display_name": "Python 3",
   "language": "python",
   "name": "python3"
  },
  "language_info": {
   "codemirror_mode": {
    "name": "ipython",
    "version": 3
   },
   "file_extension": ".py",
   "mimetype": "text/x-python",
   "name": "python",
   "nbconvert_exporter": "python",
   "pygments_lexer": "ipython3",
   "version": "3.6.5"
  }
 },
 "nbformat": 4,
 "nbformat_minor": 2
}
