{
 "cells": [
  {
   "cell_type": "markdown",
   "metadata": {},
   "source": [
    "# Homework 3 - Find the perfect place to stay in Texas!"
   ]
  },
  {
   "cell_type": "markdown",
   "metadata": {},
   "source": [
    "##### Work done by Musie Meressa Berhe, Ilaria Servadio, Omid Ghamiloo."
   ]
  },
  {
   "cell_type": "markdown",
   "metadata": {},
   "source": [
    "Show which packages we used:"
   ]
  },
  {
   "cell_type": "code",
   "execution_count": 1,
   "metadata": {},
   "outputs": [],
   "source": [
    "import csv #for read the data\n",
    "#import os\n",
    "#import glob\n",
    "import pandas as pd # for work with data frame\n",
    "import itertools as it\n",
    "from itertools import islice\n",
    "import string #We use it later for removing punctuation\n",
    "\n",
    "import json #JSON Library of Python can parse JSON string or file\n",
    "\n",
    "# we import nltk library for preprocess the documents:\n",
    "from nltk.corpus import words as nltk_words\n",
    "from nltk.tokenize import sent_tokenize, word_tokenize,RegexpTokenizer \n",
    "from nltk.corpus import stopwords\n",
    "from nltk.stem.snowball import SnowballStemmer\n",
    "from nltk.stem import WordNetLemmatizer"
   ]
  },
  {
   "cell_type": "markdown",
   "metadata": {},
   "source": [
    "## Step 1: Data"
   ]
  },
  {
   "cell_type": "markdown",
   "metadata": {},
   "source": [
    "Importing Data with **read_csv()**"
   ]
  },
  {
   "cell_type": "code",
   "execution_count": 2,
   "metadata": {},
   "outputs": [
    {
     "data": {
      "text/html": [
       "<div>\n",
       "<style scoped>\n",
       "    .dataframe tbody tr th:only-of-type {\n",
       "        vertical-align: middle;\n",
       "    }\n",
       "\n",
       "    .dataframe tbody tr th {\n",
       "        vertical-align: top;\n",
       "    }\n",
       "\n",
       "    .dataframe thead th {\n",
       "        text-align: right;\n",
       "    }\n",
       "</style>\n",
       "<table border=\"1\" class=\"dataframe\">\n",
       "  <thead>\n",
       "    <tr style=\"text-align: right;\">\n",
       "      <th></th>\n",
       "      <th>Unnamed: 0</th>\n",
       "      <th>average_rate_per_night</th>\n",
       "      <th>bedrooms_count</th>\n",
       "      <th>city</th>\n",
       "      <th>date_of_listing</th>\n",
       "      <th>description</th>\n",
       "      <th>latitude</th>\n",
       "      <th>longitude</th>\n",
       "      <th>title</th>\n",
       "      <th>url</th>\n",
       "    </tr>\n",
       "  </thead>\n",
       "  <tbody>\n",
       "    <tr>\n",
       "      <th>0</th>\n",
       "      <td>1</td>\n",
       "      <td>$27</td>\n",
       "      <td>2</td>\n",
       "      <td>Humble</td>\n",
       "      <td>May 2016</td>\n",
       "      <td>Welcome to stay in private room with queen bed...</td>\n",
       "      <td>30.020138</td>\n",
       "      <td>-95.293996</td>\n",
       "      <td>2 Private rooms/bathroom 10min from IAH airport</td>\n",
       "      <td>https://www.airbnb.com/rooms/18520444?location...</td>\n",
       "    </tr>\n",
       "    <tr>\n",
       "      <th>1</th>\n",
       "      <td>2</td>\n",
       "      <td>$149</td>\n",
       "      <td>4</td>\n",
       "      <td>San Antonio</td>\n",
       "      <td>November 2010</td>\n",
       "      <td>Stylish, fully remodeled home in upscale NW – ...</td>\n",
       "      <td>29.503068</td>\n",
       "      <td>-98.447688</td>\n",
       "      <td>Unique Location! Alamo Heights - Designer Insp...</td>\n",
       "      <td>https://www.airbnb.com/rooms/17481455?location...</td>\n",
       "    </tr>\n",
       "  </tbody>\n",
       "</table>\n",
       "</div>"
      ],
      "text/plain": [
       "   Unnamed: 0 average_rate_per_night bedrooms_count         city  \\\n",
       "0           1                    $27              2       Humble   \n",
       "1           2                   $149              4  San Antonio   \n",
       "\n",
       "  date_of_listing                                        description  \\\n",
       "0        May 2016  Welcome to stay in private room with queen bed...   \n",
       "1   November 2010  Stylish, fully remodeled home in upscale NW – ...   \n",
       "\n",
       "    latitude  longitude                                              title  \\\n",
       "0  30.020138 -95.293996    2 Private rooms/bathroom 10min from IAH airport   \n",
       "1  29.503068 -98.447688  Unique Location! Alamo Heights - Designer Insp...   \n",
       "\n",
       "                                                 url  \n",
       "0  https://www.airbnb.com/rooms/18520444?location...  \n",
       "1  https://www.airbnb.com/rooms/17481455?location...  "
      ]
     },
     "execution_count": 2,
     "metadata": {},
     "output_type": "execute_result"
    }
   ],
   "source": [
    "df = pd.read_csv('Airbnb_Texas_Rentals.csv')\n",
    "df.head(n = 2) #head(n) return the first n rows"
   ]
  },
  {
   "cell_type": "markdown",
   "metadata": {},
   "source": [
    "We delete the column called **'Unnamed: 0'** from our dataframe because the row index does not have to be imported into the tsv files.\n",
    "The content of the file should be the following:\n",
    "\n",
    "`average_rate_per_night \\t  bedrooms_count \\t city \\t date_of_listing \\t description \\t latitude\\t longitude \\t title \\t url`"
   ]
  },
  {
   "cell_type": "code",
   "execution_count": 3,
   "metadata": {},
   "outputs": [
    {
     "data": {
      "text/html": [
       "<div>\n",
       "<style scoped>\n",
       "    .dataframe tbody tr th:only-of-type {\n",
       "        vertical-align: middle;\n",
       "    }\n",
       "\n",
       "    .dataframe tbody tr th {\n",
       "        vertical-align: top;\n",
       "    }\n",
       "\n",
       "    .dataframe thead th {\n",
       "        text-align: right;\n",
       "    }\n",
       "</style>\n",
       "<table border=\"1\" class=\"dataframe\">\n",
       "  <thead>\n",
       "    <tr style=\"text-align: right;\">\n",
       "      <th></th>\n",
       "      <th>average_rate_per_night</th>\n",
       "      <th>bedrooms_count</th>\n",
       "      <th>city</th>\n",
       "      <th>date_of_listing</th>\n",
       "      <th>description</th>\n",
       "      <th>latitude</th>\n",
       "      <th>longitude</th>\n",
       "      <th>title</th>\n",
       "      <th>url</th>\n",
       "    </tr>\n",
       "  </thead>\n",
       "  <tbody>\n",
       "    <tr>\n",
       "      <th>0</th>\n",
       "      <td>$27</td>\n",
       "      <td>2</td>\n",
       "      <td>Humble</td>\n",
       "      <td>May 2016</td>\n",
       "      <td>Welcome to stay in private room with queen bed...</td>\n",
       "      <td>30.020138</td>\n",
       "      <td>-95.293996</td>\n",
       "      <td>2 Private rooms/bathroom 10min from IAH airport</td>\n",
       "      <td>https://www.airbnb.com/rooms/18520444?location...</td>\n",
       "    </tr>\n",
       "    <tr>\n",
       "      <th>1</th>\n",
       "      <td>$149</td>\n",
       "      <td>4</td>\n",
       "      <td>San Antonio</td>\n",
       "      <td>November 2010</td>\n",
       "      <td>Stylish, fully remodeled home in upscale NW – ...</td>\n",
       "      <td>29.503068</td>\n",
       "      <td>-98.447688</td>\n",
       "      <td>Unique Location! Alamo Heights - Designer Insp...</td>\n",
       "      <td>https://www.airbnb.com/rooms/17481455?location...</td>\n",
       "    </tr>\n",
       "  </tbody>\n",
       "</table>\n",
       "</div>"
      ],
      "text/plain": [
       "  average_rate_per_night bedrooms_count         city date_of_listing  \\\n",
       "0                    $27              2       Humble        May 2016   \n",
       "1                   $149              4  San Antonio   November 2010   \n",
       "\n",
       "                                         description   latitude  longitude  \\\n",
       "0  Welcome to stay in private room with queen bed...  30.020138 -95.293996   \n",
       "1  Stylish, fully remodeled home in upscale NW – ...  29.503068 -98.447688   \n",
       "\n",
       "                                               title  \\\n",
       "0    2 Private rooms/bathroom 10min from IAH airport   \n",
       "1  Unique Location! Alamo Heights - Designer Insp...   \n",
       "\n",
       "                                                 url  \n",
       "0  https://www.airbnb.com/rooms/18520444?location...  \n",
       "1  https://www.airbnb.com/rooms/17481455?location...  "
      ]
     },
     "execution_count": 3,
     "metadata": {},
     "output_type": "execute_result"
    }
   ],
   "source": [
    "df = df.drop('Unnamed: 0', axis = 1) \n",
    "df.head(n = 2)"
   ]
  },
  {
   "cell_type": "code",
   "execution_count": 4,
   "metadata": {},
   "outputs": [
    {
     "data": {
      "text/plain": [
       "18259"
      ]
     },
     "execution_count": 4,
     "metadata": {},
     "output_type": "execute_result"
    }
   ],
   "source": [
    "len(df) #corresponds to the number of file"
   ]
  },
  {
   "cell_type": "markdown",
   "metadata": {},
   "source": [
    "## Step 2: Create documents"
   ]
  },
  {
   "cell_type": "markdown",
   "metadata": {},
   "source": [
    "We create a .tsv file(where each column is separated by the tab) for **each record** of the dataset.\n",
    "The number of lines in our 'Airbnb_Texas_Rentals.csv' file is **18259**, we could see this thanks to    *len(df)*. Therefore, we create 18259 tsv file."
   ]
  },
  {
   "cell_type": "code",
   "execution_count": 6,
   "metadata": {},
   "outputs": [],
   "source": [
    "#Read the file and create a single tsv file for each record.  \n",
    "for i in range(len(df)):\n",
    "    file = open('Doc_i/doc_'+ str(i+1) \n",
    "              + '.tsv','w', newline = '', encoding = 'utf-8') \n",
    "    for j in range(9): # 9 is the number of columns\n",
    "        file.write('%s\\t' %df.iloc[i,j])\n",
    "    file.close()"
   ]
  },
  {
   "cell_type": "markdown",
   "metadata": {},
   "source": [
    "**Details:**\n",
    "- We store all the documents into an empty folder called *'Doc_i'* and this folder is created especially for them;\n",
    "- str(i+1) : **i** is the dataframe index but we increase it onefold because in thi way the numbering of the documents start from 1 and not from 0;\n",
    "- The name of each file is *doc_i.tsv*."
   ]
  },
  {
   "cell_type": "markdown",
   "metadata": {},
   "source": [
    "## Step 3: Search Engine\n",
    "As a first common step, we preprocess the documents by:\n",
    "- **Removing stopwords:** if there are words that don’t really have any meaning to our text we can just remove them. This words have sense in our language but in data analysis they are useless;\n",
    "- **Removing punctuation:** ! # $ % & \\ ' () * + , - . / : ; < = > ? @ [ \\\\ ] ^ _ ` {|} ~\n",
    "- **Stemming:** the idea is take from the word the root stem of the word. We do this because for a lot of items we are going to have different variations of word based on their stems or at least sort of fixes at the end but really the actual meaning of that word is unchanged;\n",
    "- **Lemmatizing:** is a very similar operation to stemming but the end result is a real word, so, the end result will be generally some form of synonym or it might be the original word. So, you might end up with a very different word but it will be a similar word with the same meaning;\n",
    "- **d = enchant.Dict(\"en_US\"):** we accept only words that are part of the English dictionary so we delete all the words of other languages;\n",
    "- **if not word.isdigit():** we do not take the numbers.\n",
    "\n",
    "We know that lemmatization may havWe accept only words that are part of the English dictionary so we delete all the words of other languages.e been a risky choice. In fact, using lemmatizing the answer to the query is larger than when it is not used. We have chosen to do this operation because the result could be more satisfactory for the customer. We show our reasoning with an ***example***:\n",
    "\n",
    "In English (and most languages), words appear in different forms. Look at these two sentences:\n",
    "\n",
    "`A garden with cactus` -> lemmatizer.lemmatize(\"cactus\")) return **cactus**\n",
    "\n",
    "`A garden with cacti`  -> lemmatizer.lemmatize(\"cacti\") return **cactus**\n",
    "\n",
    "Both sentences talk about the noun cactus, but they are using different inflections. When working with text in a computer, it is helpful to know the base form of each word so that you know that both sentences are talking about the same concept. Otherwise the strings “cactus” and “cacti” look like two totally different words to a computer.\n"
   ]
  },
  {
   "cell_type": "code",
   "execution_count": 7,
   "metadata": {},
   "outputs": [],
   "source": [
    "# Normalize the word. i.e. tokenize,stemming, lemmatization and removing punctuations\n",
    "exclude = set(string.punctuation)\n",
    "def wordNorm(text):\n",
    "    stemmer = SnowballStemmer(\"english\")\n",
    "    lemmatizer = WordNetLemmatizer()\n",
    "    Normalized = []\n",
    "    tokenizer = RegexpTokenizer(r'\\w+')\n",
    "    word_list = tokenizer.tokenize(text.lower())\n",
    "    Remove_stopwords = [stemmer.stem(lemmatizer.lemmatize(word)) for word in word_list if word not in stopwords.words('english')]\n",
    "    for word in Remove_stopwords:\n",
    "        word = ''.join(ch for ch in word if ch not in exclude) #remove the punctuation\n",
    "        Normalized.append(word)\n",
    "    return Normalized"
   ]
  },
  {
   "cell_type": "markdown",
   "metadata": {},
   "source": [
    "### 3.1) Conjunctive query\n",
    "At this moment, we narrow out interest on the **description** and **title** of each document.\n",
    "\n",
    "Now, what we do is:\n",
    "\n",
    "1) `Read` all the documents inside the folder which contains all the 18259 tsv files;\n",
    "\n",
    "2) `Preprocess` the discription and title for each file;\n",
    "\n",
    "3) Create a `list` of all the words \"clean\";\n",
    "\n",
    "4) Create a `dictionary` whose key is the name of the document and the words contained in it for the items."
   ]
  },
  {
   "cell_type": "code",
   "execution_count": 8,
   "metadata": {},
   "outputs": [],
   "source": [
    "words = []\n",
    "dict_ = {}\n",
    "for i in range(len(df)):\n",
    "    file = open('Doc_i/doc_'+ str(i+1) \n",
    "              + '.tsv','r', encoding = 'utf-8') \n",
    "    file_name = 'doc_'+ str(i+1) + '.tsv' \n",
    "    list_ = file.read().split('\\t')\n",
    "    desc_and_title = list_[4] + list_[7]\n",
    "    cleaning = wordNorm(str(desc_and_title))\n",
    "    words.append(cleaning)\n",
    "    dict_[file_name] = cleaning\n",
    "    file.close()\n",
    "words = list(it.chain(*words)) # Convert a nested list into one-dimensional list"
   ]
  },
  {
   "cell_type": "markdown",
   "metadata": {},
   "source": [
    "If you are interested in seeing the complete list of our words, open the file `'listwords.txt'` which is in the GitHub repository."
   ]
  },
  {
   "cell_type": "code",
   "execution_count": null,
   "metadata": {},
   "outputs": [],
   "source": [
    "# Lets save the words list for future use\n",
    "with open('listwords.txt', 'w') as filehandle:  \n",
    "    json.dump(words, filehandle)\n",
    "    \n",
    "#To read the listword and save it to our words variable (we impor json)\n",
    "# open listwords file for reading\n",
    "with open('listwords.txt', 'r') as filehandle:  \n",
    "    words = json.load(filehandle)"
   ]
  },
  {
   "cell_type": "markdown",
   "metadata": {},
   "source": [
    "**CreateVocabulary(words)**: this function take in input all words, create the set and assign an ID to each term.\n",
    "\n",
    "*Vocabulary = {term : termID}*"
   ]
  },
  {
   "cell_type": "code",
   "execution_count": 10,
   "metadata": {},
   "outputs": [],
   "source": [
    "def CreateVocabulary(words):\n",
    "    # vocabulary = {term : termID}\n",
    "    Vocabulary = {}\n",
    "    wordList = list(set(words))\n",
    "    for ID, element in enumerate(wordList):\n",
    "        Vocabulary.update({element : ID})\n",
    "    return Vocabulary"
   ]
  },
  {
   "cell_type": "code",
   "execution_count": 11,
   "metadata": {},
   "outputs": [],
   "source": [
    "voc = CreateVocabulary(words)"
   ]
  },
  {
   "cell_type": "markdown",
   "metadata": {},
   "source": [
    "If you are interested in seeing the id associated with each word, open the file `'vocabulary.txt'` which is in the GitHub repository."
   ]
  },
  {
   "cell_type": "code",
   "execution_count": 13,
   "metadata": {},
   "outputs": [],
   "source": [
    "# Lets save the vocabulary for future use\n",
    "with open('vocabulary.txt', 'w') as filehandle:  \n",
    "    json.dump(voc, filehandle)"
   ]
  },
  {
   "cell_type": "markdown",
   "metadata": {},
   "source": [
    "The total number of words is:"
   ]
  },
  {
   "cell_type": "code",
   "execution_count": 14,
   "metadata": {},
   "outputs": [
    {
     "data": {
      "text/plain": [
       "13836"
      ]
     },
     "execution_count": 14,
     "metadata": {},
     "output_type": "execute_result"
    }
   ],
   "source": [
    "len(voc)"
   ]
  },
  {
   "cell_type": "markdown",
   "metadata": {},
   "source": [
    "### 3.1.1) Create your index!\n",
    "*invertedIndex = {termID : doc}*"
   ]
  },
  {
   "cell_type": "code",
   "execution_count": 15,
   "metadata": {},
   "outputs": [],
   "source": [
    "#Build invertedIndex\n",
    "# invertedIndex = {termID : doc}\n",
    "def invertedIndex(vocabulary):\n",
    "    invertedIndex= {}\n",
    "    for key,value in vocabulary.items():\n",
    "        for i in value:\n",
    "            if (voc[i] in invertedIndex):\n",
    "                invertedIndex[voc[i]] = invertedIndex[voc[i]] + [key]\n",
    "            else:\n",
    "                invertedIndex[voc[i]] = [key]\n",
    "    return invertedIndex"
   ]
  },
  {
   "cell_type": "code",
   "execution_count": 16,
   "metadata": {},
   "outputs": [],
   "source": [
    "invertedDic = invertedIndex(dict_)"
   ]
  },
  {
   "cell_type": "markdown",
   "metadata": {},
   "source": [
    "If you are interested in seeing the inverted index, open the file `'inverted.json'` which is in the GitHub repository."
   ]
  },
  {
   "cell_type": "code",
   "execution_count": 18,
   "metadata": {},
   "outputs": [],
   "source": [
    "#Save our invertedIndex file for future use.\n",
    "with open('inverted.json', 'w') as fp:\n",
    "    json.dump(invertedDic, fp)"
   ]
  },
  {
   "cell_type": "markdown",
   "metadata": {},
   "source": [
    "### 3.1.2) Execute the query\n",
    "Given a query, that we let the user enter."
   ]
  },
  {
   "cell_type": "code",
   "execution_count": 19,
   "metadata": {},
   "outputs": [
    {
     "name": "stdout",
     "output_type": "stream",
     "text": [
      "beautiful house garden\n"
     ]
    }
   ],
   "source": [
    "query = str(input().split())"
   ]
  },
  {
   "cell_type": "code",
   "execution_count": 20,
   "metadata": {},
   "outputs": [],
   "source": [
    "qnorm = wordNorm(query) #Normalize the query"
   ]
  },
  {
   "cell_type": "markdown",
   "metadata": {},
   "source": [
    "Show how the query became after applying the function `wordNorm(query)` which applies stemming, lemmatization and removing punctuations."
   ]
  },
  {
   "cell_type": "code",
   "execution_count": 21,
   "metadata": {},
   "outputs": [
    {
     "data": {
      "text/plain": [
       "['beauti', 'hous', 'garden']"
      ]
     },
     "execution_count": 21,
     "metadata": {},
     "output_type": "execute_result"
    }
   ],
   "source": [
    "qnorm"
   ]
  },
  {
   "cell_type": "markdown",
   "metadata": {},
   "source": [
    "**What documents do we want?**\n",
    "Since we are dealing with conjunctive queries (***AND***), each of the returned documents should contain all the words in the query. \n",
    "`AND <--> intersection`"
   ]
  },
  {
   "cell_type": "code",
   "execution_count": 22,
   "metadata": {},
   "outputs": [],
   "source": [
    "inter = set() #set with the documents that contain all the words in the query\n",
    "switch = True\n",
    "for word in qnorm:\n",
    "    if word in voc:\n",
    "        if (switch):\n",
    "            inter = inter.union(invertedDic[voc[word]])\n",
    "            switch = False\n",
    "        if(len(inter) >0):\n",
    "                inter = inter.intersection(set(invertedDic[voc[word]]))\n",
    "        else:\n",
    "            break"
   ]
  },
  {
   "cell_type": "code",
   "execution_count": 23,
   "metadata": {},
   "outputs": [
    {
     "data": {
      "text/plain": [
       "{'doc_10416.tsv',\n",
       " 'doc_10589.tsv',\n",
       " 'doc_11332.tsv',\n",
       " 'doc_11604.tsv',\n",
       " 'doc_12060.tsv',\n",
       " 'doc_12545.tsv',\n",
       " 'doc_12928.tsv',\n",
       " 'doc_13310.tsv',\n",
       " 'doc_13696.tsv',\n",
       " 'doc_14035.tsv',\n",
       " 'doc_14255.tsv',\n",
       " 'doc_14553.tsv',\n",
       " 'doc_15036.tsv',\n",
       " 'doc_15559.tsv',\n",
       " 'doc_15718.tsv',\n",
       " 'doc_16980.tsv',\n",
       " 'doc_17121.tsv',\n",
       " 'doc_17598.tsv',\n",
       " 'doc_2.tsv',\n",
       " 'doc_2057.tsv',\n",
       " 'doc_2558.tsv',\n",
       " 'doc_2824.tsv',\n",
       " 'doc_3233.tsv',\n",
       " 'doc_3385.tsv',\n",
       " 'doc_3759.tsv',\n",
       " 'doc_3877.tsv',\n",
       " 'doc_4112.tsv',\n",
       " 'doc_4207.tsv',\n",
       " 'doc_5510.tsv',\n",
       " 'doc_567.tsv',\n",
       " 'doc_6226.tsv',\n",
       " 'doc_6448.tsv',\n",
       " 'doc_7279.tsv',\n",
       " 'doc_7491.tsv',\n",
       " 'doc_7928.tsv',\n",
       " 'doc_8131.tsv',\n",
       " 'doc_8481.tsv',\n",
       " 'doc_8484.tsv',\n",
       " 'doc_9138.tsv',\n",
       " 'doc_9436.tsv',\n",
       " 'doc_9948.tsv'}"
      ]
     },
     "execution_count": 23,
     "metadata": {},
     "output_type": "execute_result"
    }
   ],
   "source": [
    "inter"
   ]
  },
  {
   "cell_type": "markdown",
   "metadata": {},
   "source": [
    "### Final output of the query"
   ]
  },
  {
   "cell_type": "code",
   "execution_count": 28,
   "metadata": {},
   "outputs": [
    {
     "data": {
      "text/html": [
       "<div>\n",
       "<style scoped>\n",
       "    .dataframe tbody tr th:only-of-type {\n",
       "        vertical-align: middle;\n",
       "    }\n",
       "\n",
       "    .dataframe tbody tr th {\n",
       "        vertical-align: top;\n",
       "    }\n",
       "\n",
       "    .dataframe thead th {\n",
       "        text-align: right;\n",
       "    }\n",
       "</style>\n",
       "<table border=\"1\" class=\"dataframe\">\n",
       "  <thead>\n",
       "    <tr style=\"text-align: right;\">\n",
       "      <th></th>\n",
       "      <th>Title</th>\n",
       "      <th>Description</th>\n",
       "      <th>City</th>\n",
       "      <th>Url</th>\n",
       "    </tr>\n",
       "  </thead>\n",
       "  <tbody>\n",
       "    <tr>\n",
       "      <th>0</th>\n",
       "      <td>East Austin Hillside Gem</td>\n",
       "      <td>Beautiful and modern 3Br, 2.5Ba located minute...</td>\n",
       "      <td>Austin</td>\n",
       "      <td>https://www.airbnb.com/rooms/17555039?location...</td>\n",
       "    </tr>\n",
       "    <tr>\n",
       "      <th>0</th>\n",
       "      <td>Ensuite room in beautiful house near Uptown/DART</td>\n",
       "      <td>Private ground floor ensuite room in 4 storey ...</td>\n",
       "      <td>Dallas</td>\n",
       "      <td>https://www.airbnb.com/rooms/13262768?location...</td>\n",
       "    </tr>\n",
       "    <tr>\n",
       "      <th>0</th>\n",
       "      <td>Alla's Rose Room in S.W. Dallas</td>\n",
       "      <td>Beautifully furnished room with an antique Kin...</td>\n",
       "      <td>Duncanville</td>\n",
       "      <td>https://www.airbnb.com/rooms/714222?location=C...</td>\n",
       "    </tr>\n",
       "    <tr>\n",
       "      <th>0</th>\n",
       "      <td>Slade Street Carriage Pool House</td>\n",
       "      <td>This historic carriage house has been beautifu...</td>\n",
       "      <td>Coldspring</td>\n",
       "      <td>https://www.airbnb.com/rooms/15882909?location...</td>\n",
       "    </tr>\n",
       "    <tr>\n",
       "      <th>0</th>\n",
       "      <td>Serene Farmhouse on Natural Reserve</td>\n",
       "      <td>Welcome to Karakia - a beautiful farm house on...</td>\n",
       "      <td>Wimberley</td>\n",
       "      <td>https://www.airbnb.com/rooms/9509505?location=...</td>\n",
       "    </tr>\n",
       "    <tr>\n",
       "      <th>0</th>\n",
       "      <td>Rooms at Rehoboth</td>\n",
       "      <td>Step back into yesterday in this old Victorian...</td>\n",
       "      <td>Temple</td>\n",
       "      <td>https://www.airbnb.com/rooms/18055961?location...</td>\n",
       "    </tr>\n",
       "    <tr>\n",
       "      <th>0</th>\n",
       "      <td>Dallas Downton Abbey</td>\n",
       "      <td>Our Dallas Downton Abbey is close to downtown,...</td>\n",
       "      <td>Dallas</td>\n",
       "      <td>https://www.airbnb.com/rooms/14254297?location...</td>\n",
       "    </tr>\n",
       "    <tr>\n",
       "      <th>0</th>\n",
       "      <td>The Vintage room in Fort Worth</td>\n",
       "      <td>Our place is a beautiful cozy open concept hou...</td>\n",
       "      <td>Fort Worth</td>\n",
       "      <td>https://www.airbnb.com/rooms/18959678?location...</td>\n",
       "    </tr>\n",
       "    <tr>\n",
       "      <th>0</th>\n",
       "      <td>Home Away from Home in Spring, TX</td>\n",
       "      <td>Beautiful 2100 sq. ft house! Three bedroom and...</td>\n",
       "      <td>Spring</td>\n",
       "      <td>https://www.airbnb.com/rooms/1521227?location=...</td>\n",
       "    </tr>\n",
       "    <tr>\n",
       "      <th>0</th>\n",
       "      <td>The Vintage room in Fort Worth</td>\n",
       "      <td>Our place is a beautiful cozy open concept hou...</td>\n",
       "      <td>Fort Worth</td>\n",
       "      <td>https://www.airbnb.com/rooms/18959678?location...</td>\n",
       "    </tr>\n",
       "    <tr>\n",
       "      <th>0</th>\n",
       "      <td>New!3BR Fort Worth House near AT&amp;T Stadium w/ ...</td>\n",
       "      <td>Explore the City of Cowboys and Culture from t...</td>\n",
       "      <td>Fort Worth</td>\n",
       "      <td>https://www.airbnb.com/rooms/19193017?location...</td>\n",
       "    </tr>\n",
       "    <tr>\n",
       "      <th>0</th>\n",
       "      <td>Stay at an architect's gorgeous home and garden!</td>\n",
       "      <td>A beautiful, modern home, surrounded by a beau...</td>\n",
       "      <td>Austin</td>\n",
       "      <td>https://www.airbnb.com/rooms/18998883?location...</td>\n",
       "    </tr>\n",
       "    <tr>\n",
       "      <th>0</th>\n",
       "      <td>Unique Location! Alamo Heights - Designer Insp...</td>\n",
       "      <td>Stylish, fully remodeled home in upscale NW – ...</td>\n",
       "      <td>San Antonio</td>\n",
       "      <td>https://www.airbnb.com/rooms/17481455?location...</td>\n",
       "    </tr>\n",
       "    <tr>\n",
       "      <th>0</th>\n",
       "      <td>Wyman House Bed and Breakfast</td>\n",
       "      <td>Beautiful 1907 Victorian Home Located in La Po...</td>\n",
       "      <td>La Porte</td>\n",
       "      <td>https://www.airbnb.com/rooms/10861022?location...</td>\n",
       "    </tr>\n",
       "    <tr>\n",
       "      <th>0</th>\n",
       "      <td>Vintage Airstream in East Austin, T</td>\n",
       "      <td>This fantastic backyard garden oasis has been ...</td>\n",
       "      <td>Austin</td>\n",
       "      <td>https://www.airbnb.com/rooms/949922?location=B...</td>\n",
       "    </tr>\n",
       "    <tr>\n",
       "      <th>0</th>\n",
       "      <td>Superb Studio Apartment with Garden View</td>\n",
       "      <td>Excellent design and natural beauty make this ...</td>\n",
       "      <td>San Antonio</td>\n",
       "      <td>https://www.airbnb.com/rooms/17255843?location...</td>\n",
       "    </tr>\n",
       "    <tr>\n",
       "      <th>0</th>\n",
       "      <td>Historic Mansion Downtown Ft Worth; Bass Hall;...</td>\n",
       "      <td>Less than 2 miles from TCU, the Fort Worth Con...</td>\n",
       "      <td>Fort Worth</td>\n",
       "      <td>https://www.airbnb.com/rooms/8664808?location=...</td>\n",
       "    </tr>\n",
       "    <tr>\n",
       "      <th>0</th>\n",
       "      <td>Unique Location! Alamo Heights - Designer Insp...</td>\n",
       "      <td>Stylish, fully remodeled home in upscale NW – ...</td>\n",
       "      <td>San Antonio</td>\n",
       "      <td>https://www.airbnb.com/rooms/17481455?location...</td>\n",
       "    </tr>\n",
       "    <tr>\n",
       "      <th>0</th>\n",
       "      <td>Vintage Airstream in East Austin, T</td>\n",
       "      <td>This fantastic backyard garden oasis has been ...</td>\n",
       "      <td>Austin</td>\n",
       "      <td>https://www.airbnb.com/rooms/949922?location=C...</td>\n",
       "    </tr>\n",
       "    <tr>\n",
       "      <th>0</th>\n",
       "      <td>Stay at an architect's gorgeous home and garden!</td>\n",
       "      <td>A beautiful, modern home, surrounded by a beau...</td>\n",
       "      <td>Austin</td>\n",
       "      <td>https://www.airbnb.com/rooms/18998883?location...</td>\n",
       "    </tr>\n",
       "    <tr>\n",
       "      <th>0</th>\n",
       "      <td>The Vintage room in Fort Worth</td>\n",
       "      <td>Our place is a beautiful cozy open concept hou...</td>\n",
       "      <td>Fort Worth</td>\n",
       "      <td>https://www.airbnb.com/rooms/18959678?location...</td>\n",
       "    </tr>\n",
       "    <tr>\n",
       "      <th>0</th>\n",
       "      <td>Waterpark in Dallas</td>\n",
       "      <td>Backyard paradise close to Plano. I have creat...</td>\n",
       "      <td>Dallas</td>\n",
       "      <td>https://www.airbnb.com/rooms/19096810?location...</td>\n",
       "    </tr>\n",
       "    <tr>\n",
       "      <th>0</th>\n",
       "      <td>The Woodlands, BEAUTIFUL HOME, 1 Floor, 2 BT, ...</td>\n",
       "      <td>Attractions: The Woodlands, incredible views, ...</td>\n",
       "      <td>Spring</td>\n",
       "      <td>https://www.airbnb.com/rooms/13065223?location...</td>\n",
       "    </tr>\n",
       "    <tr>\n",
       "      <th>0</th>\n",
       "      <td>Superb Studio Apartment with Garden View</td>\n",
       "      <td>Excellent design and natural beauty make this ...</td>\n",
       "      <td>San Antonio</td>\n",
       "      <td>https://www.airbnb.com/rooms/17255843?location...</td>\n",
       "    </tr>\n",
       "    <tr>\n",
       "      <th>0</th>\n",
       "      <td>Greeley Gardens Carriage House</td>\n",
       "      <td>This is a beautiful cozy garage apartment with...</td>\n",
       "      <td>Houston</td>\n",
       "      <td>https://www.airbnb.com/rooms/8301898?location=...</td>\n",
       "    </tr>\n",
       "    <tr>\n",
       "      <th>0</th>\n",
       "      <td>Historic Mansion Downtown Ft Worth; Bass Hall;...</td>\n",
       "      <td>Less than 2 miles from TCU, the Fort Worth Con...</td>\n",
       "      <td>Fort Worth</td>\n",
       "      <td>https://www.airbnb.com/rooms/8664808?location=...</td>\n",
       "    </tr>\n",
       "    <tr>\n",
       "      <th>0</th>\n",
       "      <td>Garden Bedroom</td>\n",
       "      <td>Comfortable and private, the garden bedroom is...</td>\n",
       "      <td>Austin</td>\n",
       "      <td>https://www.airbnb.com/rooms/5096161?location=...</td>\n",
       "    </tr>\n",
       "    <tr>\n",
       "      <th>0</th>\n",
       "      <td>Colorful Garden Home plus Private Studio Apart...</td>\n",
       "      <td>Natural beauty and great art make this clean, ...</td>\n",
       "      <td>San Antonio</td>\n",
       "      <td>https://www.airbnb.com/rooms/17341454?location...</td>\n",
       "    </tr>\n",
       "    <tr>\n",
       "      <th>0</th>\n",
       "      <td>Wyman House Bed and Breakfast</td>\n",
       "      <td>Beautiful 1907 Victorian Home Located in La Po...</td>\n",
       "      <td>La Porte</td>\n",
       "      <td>https://www.airbnb.com/rooms/10861022?location...</td>\n",
       "    </tr>\n",
       "    <tr>\n",
       "      <th>0</th>\n",
       "      <td>Unique Location! Alamo Heights - Designer Insp...</td>\n",
       "      <td>Stylish, fully remodeled home in upscale NW – ...</td>\n",
       "      <td>San Antonio</td>\n",
       "      <td>https://www.airbnb.com/rooms/17481455?location...</td>\n",
       "    </tr>\n",
       "    <tr>\n",
       "      <th>0</th>\n",
       "      <td>Vintage Airstream in East Austin, T</td>\n",
       "      <td>This fantastic backyard garden oasis has been ...</td>\n",
       "      <td>Austin</td>\n",
       "      <td>https://www.airbnb.com/rooms/949922?location=C...</td>\n",
       "    </tr>\n",
       "    <tr>\n",
       "      <th>0</th>\n",
       "      <td>Carriage House on Ranch Homestead in Hill Country</td>\n",
       "      <td>Renovated historic barn with concrete floors, ...</td>\n",
       "      <td>Helotes</td>\n",
       "      <td>https://www.airbnb.com/rooms/6504290?location=...</td>\n",
       "    </tr>\n",
       "    <tr>\n",
       "      <th>0</th>\n",
       "      <td>Wyman House Bed and Breakfast</td>\n",
       "      <td>Beautiful 1907 Victorian Home Located in La Po...</td>\n",
       "      <td>La Porte</td>\n",
       "      <td>https://www.airbnb.com/rooms/10861022?location...</td>\n",
       "    </tr>\n",
       "    <tr>\n",
       "      <th>0</th>\n",
       "      <td>Relaxing house and garden</td>\n",
       "      <td>Three room house situated in the Hill Country ...</td>\n",
       "      <td>Kyle</td>\n",
       "      <td>https://www.airbnb.com/rooms/2927741?location=...</td>\n",
       "    </tr>\n",
       "    <tr>\n",
       "      <th>0</th>\n",
       "      <td>Rooms at Rehoboth</td>\n",
       "      <td>Step back into yesterday in this old Victorian...</td>\n",
       "      <td>Temple</td>\n",
       "      <td>https://www.airbnb.com/rooms/18055961?location...</td>\n",
       "    </tr>\n",
       "    <tr>\n",
       "      <th>0</th>\n",
       "      <td>Stylish Stone Cottage on White Rock Lake</td>\n",
       "      <td>Newly remodeled, open-concept living located o...</td>\n",
       "      <td>Dallas</td>\n",
       "      <td>https://www.airbnb.com/rooms/15132655?location...</td>\n",
       "    </tr>\n",
       "    <tr>\n",
       "      <th>0</th>\n",
       "      <td>Beautiful king bedroom in NW Austin</td>\n",
       "      <td>My house is close to Lakeline Mall, highways a...</td>\n",
       "      <td>Austin</td>\n",
       "      <td>https://www.airbnb.com/rooms/15162593?location...</td>\n",
       "    </tr>\n",
       "    <tr>\n",
       "      <th>0</th>\n",
       "      <td>New!3BR Fort Worth House near AT&amp;T Stadium w/ ...</td>\n",
       "      <td>Explore the City of Cowboys and Culture from t...</td>\n",
       "      <td>Fort Worth</td>\n",
       "      <td>https://www.airbnb.com/rooms/19193017?location...</td>\n",
       "    </tr>\n",
       "    <tr>\n",
       "      <th>0</th>\n",
       "      <td>Superb Studio Apartment with Garden View</td>\n",
       "      <td>Excellent design and natural beauty make this ...</td>\n",
       "      <td>San Antonio</td>\n",
       "      <td>https://www.airbnb.com/rooms/17255843?location...</td>\n",
       "    </tr>\n",
       "    <tr>\n",
       "      <th>0</th>\n",
       "      <td>Vintage Airstream in East Austin, T</td>\n",
       "      <td>This fantastic backyard garden oasis has been ...</td>\n",
       "      <td>Austin</td>\n",
       "      <td>https://www.airbnb.com/rooms/949922?location=A...</td>\n",
       "    </tr>\n",
       "    <tr>\n",
       "      <th>0</th>\n",
       "      <td>Beautiful queen bedroom in NW Austin</td>\n",
       "      <td>My house is close to Lakeline Mall, highways a...</td>\n",
       "      <td>Austin</td>\n",
       "      <td>https://www.airbnb.com/rooms/16755710?location...</td>\n",
       "    </tr>\n",
       "  </tbody>\n",
       "</table>\n",
       "</div>"
      ],
      "text/plain": [
       "                                               Title  \\\n",
       "0                           East Austin Hillside Gem   \n",
       "0   Ensuite room in beautiful house near Uptown/DART   \n",
       "0                    Alla's Rose Room in S.W. Dallas   \n",
       "0                   Slade Street Carriage Pool House   \n",
       "0                Serene Farmhouse on Natural Reserve   \n",
       "0                                  Rooms at Rehoboth   \n",
       "0                               Dallas Downton Abbey   \n",
       "0                     The Vintage room in Fort Worth   \n",
       "0                  Home Away from Home in Spring, TX   \n",
       "0                     The Vintage room in Fort Worth   \n",
       "0  New!3BR Fort Worth House near AT&T Stadium w/ ...   \n",
       "0   Stay at an architect's gorgeous home and garden!   \n",
       "0  Unique Location! Alamo Heights - Designer Insp...   \n",
       "0                      Wyman House Bed and Breakfast   \n",
       "0                Vintage Airstream in East Austin, T   \n",
       "0           Superb Studio Apartment with Garden View   \n",
       "0  Historic Mansion Downtown Ft Worth; Bass Hall;...   \n",
       "0  Unique Location! Alamo Heights - Designer Insp...   \n",
       "0                Vintage Airstream in East Austin, T   \n",
       "0   Stay at an architect's gorgeous home and garden!   \n",
       "0                     The Vintage room in Fort Worth   \n",
       "0                                Waterpark in Dallas   \n",
       "0  The Woodlands, BEAUTIFUL HOME, 1 Floor, 2 BT, ...   \n",
       "0           Superb Studio Apartment with Garden View   \n",
       "0                     Greeley Gardens Carriage House   \n",
       "0  Historic Mansion Downtown Ft Worth; Bass Hall;...   \n",
       "0                                     Garden Bedroom   \n",
       "0  Colorful Garden Home plus Private Studio Apart...   \n",
       "0                      Wyman House Bed and Breakfast   \n",
       "0  Unique Location! Alamo Heights - Designer Insp...   \n",
       "0                Vintage Airstream in East Austin, T   \n",
       "0  Carriage House on Ranch Homestead in Hill Country   \n",
       "0                      Wyman House Bed and Breakfast   \n",
       "0                          Relaxing house and garden   \n",
       "0                                  Rooms at Rehoboth   \n",
       "0           Stylish Stone Cottage on White Rock Lake   \n",
       "0                Beautiful king bedroom in NW Austin   \n",
       "0  New!3BR Fort Worth House near AT&T Stadium w/ ...   \n",
       "0           Superb Studio Apartment with Garden View   \n",
       "0                Vintage Airstream in East Austin, T   \n",
       "0               Beautiful queen bedroom in NW Austin   \n",
       "\n",
       "                                         Description         City  \\\n",
       "0  Beautiful and modern 3Br, 2.5Ba located minute...       Austin   \n",
       "0  Private ground floor ensuite room in 4 storey ...       Dallas   \n",
       "0  Beautifully furnished room with an antique Kin...  Duncanville   \n",
       "0  This historic carriage house has been beautifu...   Coldspring   \n",
       "0  Welcome to Karakia - a beautiful farm house on...    Wimberley   \n",
       "0  Step back into yesterday in this old Victorian...       Temple   \n",
       "0  Our Dallas Downton Abbey is close to downtown,...       Dallas   \n",
       "0  Our place is a beautiful cozy open concept hou...   Fort Worth   \n",
       "0  Beautiful 2100 sq. ft house! Three bedroom and...       Spring   \n",
       "0  Our place is a beautiful cozy open concept hou...   Fort Worth   \n",
       "0  Explore the City of Cowboys and Culture from t...   Fort Worth   \n",
       "0  A beautiful, modern home, surrounded by a beau...       Austin   \n",
       "0  Stylish, fully remodeled home in upscale NW – ...  San Antonio   \n",
       "0  Beautiful 1907 Victorian Home Located in La Po...     La Porte   \n",
       "0  This fantastic backyard garden oasis has been ...       Austin   \n",
       "0  Excellent design and natural beauty make this ...  San Antonio   \n",
       "0  Less than 2 miles from TCU, the Fort Worth Con...   Fort Worth   \n",
       "0  Stylish, fully remodeled home in upscale NW – ...  San Antonio   \n",
       "0  This fantastic backyard garden oasis has been ...       Austin   \n",
       "0  A beautiful, modern home, surrounded by a beau...       Austin   \n",
       "0  Our place is a beautiful cozy open concept hou...   Fort Worth   \n",
       "0  Backyard paradise close to Plano. I have creat...       Dallas   \n",
       "0  Attractions: The Woodlands, incredible views, ...       Spring   \n",
       "0  Excellent design and natural beauty make this ...  San Antonio   \n",
       "0  This is a beautiful cozy garage apartment with...      Houston   \n",
       "0  Less than 2 miles from TCU, the Fort Worth Con...   Fort Worth   \n",
       "0  Comfortable and private, the garden bedroom is...       Austin   \n",
       "0  Natural beauty and great art make this clean, ...  San Antonio   \n",
       "0  Beautiful 1907 Victorian Home Located in La Po...     La Porte   \n",
       "0  Stylish, fully remodeled home in upscale NW – ...  San Antonio   \n",
       "0  This fantastic backyard garden oasis has been ...       Austin   \n",
       "0  Renovated historic barn with concrete floors, ...      Helotes   \n",
       "0  Beautiful 1907 Victorian Home Located in La Po...     La Porte   \n",
       "0  Three room house situated in the Hill Country ...         Kyle   \n",
       "0  Step back into yesterday in this old Victorian...       Temple   \n",
       "0  Newly remodeled, open-concept living located o...       Dallas   \n",
       "0  My house is close to Lakeline Mall, highways a...       Austin   \n",
       "0  Explore the City of Cowboys and Culture from t...   Fort Worth   \n",
       "0  Excellent design and natural beauty make this ...  San Antonio   \n",
       "0  This fantastic backyard garden oasis has been ...       Austin   \n",
       "0  My house is close to Lakeline Mall, highways a...       Austin   \n",
       "\n",
       "                                                 Url  \n",
       "0  https://www.airbnb.com/rooms/17555039?location...  \n",
       "0  https://www.airbnb.com/rooms/13262768?location...  \n",
       "0  https://www.airbnb.com/rooms/714222?location=C...  \n",
       "0  https://www.airbnb.com/rooms/15882909?location...  \n",
       "0  https://www.airbnb.com/rooms/9509505?location=...  \n",
       "0  https://www.airbnb.com/rooms/18055961?location...  \n",
       "0  https://www.airbnb.com/rooms/14254297?location...  \n",
       "0  https://www.airbnb.com/rooms/18959678?location...  \n",
       "0  https://www.airbnb.com/rooms/1521227?location=...  \n",
       "0  https://www.airbnb.com/rooms/18959678?location...  \n",
       "0  https://www.airbnb.com/rooms/19193017?location...  \n",
       "0  https://www.airbnb.com/rooms/18998883?location...  \n",
       "0  https://www.airbnb.com/rooms/17481455?location...  \n",
       "0  https://www.airbnb.com/rooms/10861022?location...  \n",
       "0  https://www.airbnb.com/rooms/949922?location=B...  \n",
       "0  https://www.airbnb.com/rooms/17255843?location...  \n",
       "0  https://www.airbnb.com/rooms/8664808?location=...  \n",
       "0  https://www.airbnb.com/rooms/17481455?location...  \n",
       "0  https://www.airbnb.com/rooms/949922?location=C...  \n",
       "0  https://www.airbnb.com/rooms/18998883?location...  \n",
       "0  https://www.airbnb.com/rooms/18959678?location...  \n",
       "0  https://www.airbnb.com/rooms/19096810?location...  \n",
       "0  https://www.airbnb.com/rooms/13065223?location...  \n",
       "0  https://www.airbnb.com/rooms/17255843?location...  \n",
       "0  https://www.airbnb.com/rooms/8301898?location=...  \n",
       "0  https://www.airbnb.com/rooms/8664808?location=...  \n",
       "0  https://www.airbnb.com/rooms/5096161?location=...  \n",
       "0  https://www.airbnb.com/rooms/17341454?location...  \n",
       "0  https://www.airbnb.com/rooms/10861022?location...  \n",
       "0  https://www.airbnb.com/rooms/17481455?location...  \n",
       "0  https://www.airbnb.com/rooms/949922?location=C...  \n",
       "0  https://www.airbnb.com/rooms/6504290?location=...  \n",
       "0  https://www.airbnb.com/rooms/10861022?location...  \n",
       "0  https://www.airbnb.com/rooms/2927741?location=...  \n",
       "0  https://www.airbnb.com/rooms/18055961?location...  \n",
       "0  https://www.airbnb.com/rooms/15132655?location...  \n",
       "0  https://www.airbnb.com/rooms/15162593?location...  \n",
       "0  https://www.airbnb.com/rooms/19193017?location...  \n",
       "0  https://www.airbnb.com/rooms/17255843?location...  \n",
       "0  https://www.airbnb.com/rooms/949922?location=A...  \n",
       "0  https://www.airbnb.com/rooms/16755710?location...  "
      ]
     },
     "execution_count": 28,
     "metadata": {},
     "output_type": "execute_result"
    }
   ],
   "source": [
    "my_dataframe = pd.DataFrame()\n",
    "for file in inter:\n",
    "    table = pd.read_table('Doc_i/'+ file,sep='\\t', header = None,index_col = None)\n",
    "    my_dataframe = my_dataframe.append(pd.DataFrame(table))\n",
    "\n",
    "df1 = my_dataframe.rename(columns={0: 'average_rate_per_night', 1:'bedrooms_count', 2:'City',\n",
    "                  3:'date_of_listing',4:'Description',5:'latitude',\n",
    "                                                6:'longitude',7:'Title',8:'Url'})\n",
    "\n",
    "df2 = df1[['Title','Description','City','Url']]\n",
    "\n",
    "df2"
   ]
  },
  {
   "cell_type": "markdown",
   "metadata": {},
   "source": [
    "### 3.2) Conjunctive query & Ranking score"
   ]
  },
  {
   "cell_type": "code",
   "execution_count": null,
   "metadata": {},
   "outputs": [],
   "source": [
    "def term_freq(term, text):\n",
    "    count = 0\n",
    "    if len(text) <= 0:\n",
    "        return 0\n",
    "    else:\n",
    "        for ter in text:\n",
    "            if ter == term:\n",
    "                count += 1\n",
    "        return count / len(text)"
   ]
  },
  {
   "cell_type": "code",
   "execution_count": null,
   "metadata": {},
   "outputs": [],
   "source": [
    "dic = \n",
    "for word in voc:\n",
    "    tf = term_freq(word,voc)"
   ]
  },
  {
   "cell_type": "code",
   "execution_count": null,
   "metadata": {},
   "outputs": [],
   "source": [
    "my_dataframe = pd.DataFrame()\n",
    "for file in inter:\n",
    "    print(file)"
   ]
  },
  {
   "cell_type": "code",
   "execution_count": null,
   "metadata": {},
   "outputs": [],
   "source": []
  }
 ],
 "metadata": {
  "kernelspec": {
   "display_name": "Python 3",
   "language": "python",
   "name": "python3"
  },
  "language_info": {
   "codemirror_mode": {
    "name": "ipython",
    "version": 3
   },
   "file_extension": ".py",
   "mimetype": "text/x-python",
   "name": "python",
   "nbconvert_exporter": "python",
   "pygments_lexer": "ipython3",
   "version": "3.6.5"
  }
 },
 "nbformat": 4,
 "nbformat_minor": 2
}
